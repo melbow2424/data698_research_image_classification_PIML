{
  "nbformat": 4,
  "nbformat_minor": 0,
  "metadata": {
    "colab": {
      "provenance": [],
      "gpuType": "T4"
    },
    "kernelspec": {
      "name": "python3",
      "display_name": "Python 3"
    },
    "language_info": {
      "name": "python"
    },
    "accelerator": "GPU"
  },
  "cells": [
    {
      "cell_type": "code",
      "execution_count": null,
      "metadata": {
        "id": "NH012EpuSMrH"
      },
      "outputs": [],
      "source": [
        "import tensorflow as tf\n",
        "import numpy as np"
      ]
    },
    {
      "cell_type": "code",
      "source": [
        "# Load the MNIST dataset\n",
        "mnist = tf.keras.datasets.mnist"
      ],
      "metadata": {
        "id": "J_fgvRiJWdL_"
      },
      "execution_count": null,
      "outputs": []
    },
    {
      "cell_type": "code",
      "source": [
        "print(mnist)"
      ],
      "metadata": {
        "colab": {
          "base_uri": "https://localhost:8080/"
        },
        "id": "hJATTD8I6_Px",
        "outputId": "dc5d5e31-7527-4259-de57-8ae2c95a1004"
      },
      "execution_count": null,
      "outputs": [
        {
          "output_type": "stream",
          "name": "stdout",
          "text": [
            "<module 'keras.api.datasets.mnist' from '/usr/local/lib/python3.10/dist-packages/keras/api/datasets/mnist/__init__.py'>\n"
          ]
        }
      ]
    },
    {
      "cell_type": "code",
      "source": [
        "(x_train, y_train), (x_test, y_test) = mnist.load_data()"
      ],
      "metadata": {
        "colab": {
          "base_uri": "https://localhost:8080/"
        },
        "id": "zR23Vrt1WjLe",
        "outputId": "801cb234-a770-4d13-c6bf-011a8795c452"
      },
      "execution_count": null,
      "outputs": [
        {
          "output_type": "stream",
          "name": "stdout",
          "text": [
            "Downloading data from https://storage.googleapis.com/tensorflow/tf-keras-datasets/mnist.npz\n",
            "\u001b[1m11490434/11490434\u001b[0m \u001b[32m━━━━━━━━━━━━━━━━━━━━\u001b[0m\u001b[37m\u001b[0m \u001b[1m0s\u001b[0m 0us/step\n"
          ]
        }
      ]
    },
    {
      "cell_type": "code",
      "source": [
        "print(x_train.shape , y_train.shape)\n",
        "print(x_test.shape , y_test.shape)\n",
        "print(x_train.dtype , y_train.dtype)"
      ],
      "metadata": {
        "colab": {
          "base_uri": "https://localhost:8080/"
        },
        "id": "zXbmMij_WxOd",
        "outputId": "b1fe17dd-c741-485a-b5de-74f686a48953"
      },
      "execution_count": null,
      "outputs": [
        {
          "output_type": "stream",
          "name": "stdout",
          "text": [
            "(60000, 28, 28) (60000,)\n",
            "(10000, 28, 28) (10000,)\n",
            "uint8 uint8\n"
          ]
        }
      ]
    },
    {
      "cell_type": "code",
      "source": [
        "print(x_train)"
      ],
      "metadata": {
        "colab": {
          "base_uri": "https://localhost:8080/"
        },
        "id": "fCl0ZLCV7FDx",
        "outputId": "3ba5e400-1e33-460a-ea74-db119943931c"
      },
      "execution_count": null,
      "outputs": [
        {
          "output_type": "stream",
          "name": "stdout",
          "text": [
            "[[[0 0 0 ... 0 0 0]\n",
            "  [0 0 0 ... 0 0 0]\n",
            "  [0 0 0 ... 0 0 0]\n",
            "  ...\n",
            "  [0 0 0 ... 0 0 0]\n",
            "  [0 0 0 ... 0 0 0]\n",
            "  [0 0 0 ... 0 0 0]]\n",
            "\n",
            " [[0 0 0 ... 0 0 0]\n",
            "  [0 0 0 ... 0 0 0]\n",
            "  [0 0 0 ... 0 0 0]\n",
            "  ...\n",
            "  [0 0 0 ... 0 0 0]\n",
            "  [0 0 0 ... 0 0 0]\n",
            "  [0 0 0 ... 0 0 0]]\n",
            "\n",
            " [[0 0 0 ... 0 0 0]\n",
            "  [0 0 0 ... 0 0 0]\n",
            "  [0 0 0 ... 0 0 0]\n",
            "  ...\n",
            "  [0 0 0 ... 0 0 0]\n",
            "  [0 0 0 ... 0 0 0]\n",
            "  [0 0 0 ... 0 0 0]]\n",
            "\n",
            " ...\n",
            "\n",
            " [[0 0 0 ... 0 0 0]\n",
            "  [0 0 0 ... 0 0 0]\n",
            "  [0 0 0 ... 0 0 0]\n",
            "  ...\n",
            "  [0 0 0 ... 0 0 0]\n",
            "  [0 0 0 ... 0 0 0]\n",
            "  [0 0 0 ... 0 0 0]]\n",
            "\n",
            " [[0 0 0 ... 0 0 0]\n",
            "  [0 0 0 ... 0 0 0]\n",
            "  [0 0 0 ... 0 0 0]\n",
            "  ...\n",
            "  [0 0 0 ... 0 0 0]\n",
            "  [0 0 0 ... 0 0 0]\n",
            "  [0 0 0 ... 0 0 0]]\n",
            "\n",
            " [[0 0 0 ... 0 0 0]\n",
            "  [0 0 0 ... 0 0 0]\n",
            "  [0 0 0 ... 0 0 0]\n",
            "  ...\n",
            "  [0 0 0 ... 0 0 0]\n",
            "  [0 0 0 ... 0 0 0]\n",
            "  [0 0 0 ... 0 0 0]]]\n"
          ]
        }
      ]
    },
    {
      "cell_type": "code",
      "source": [
        "x_train[0]"
      ],
      "metadata": {
        "colab": {
          "base_uri": "https://localhost:8080/",
          "height": 68
        },
        "id": "vHjOTELdaup3",
        "outputId": "08e91bef-5107-41cd-d554-d46829b4fd15"
      },
      "execution_count": null,
      "outputs": [
        {
          "output_type": "execute_result",
          "data": {
            "text/plain": [
              "array([[  0,   0,   0,   0,   0,   0,   0,   0,   0,   0,   0,   0,   0,\n",
              "          0,   0,   0,   0,   0,   0,   0,   0,   0,   0,   0,   0,   0,\n",
              "          0,   0],\n",
              "       [  0,   0,   0,   0,   0,   0,   0,   0,   0,   0,   0,   0,   0,\n",
              "          0,   0,   0,   0,   0,   0,   0,   0,   0,   0,   0,   0,   0,\n",
              "          0,   0],\n",
              "       [  0,   0,   0,   0,   0,   0,   0,   0,   0,   0,   0,   0,   0,\n",
              "          0,   0,   0,   0,   0,   0,   0,   0,   0,   0,   0,   0,   0,\n",
              "          0,   0],\n",
              "       [  0,   0,   0,   0,   0,   0,   0,   0,   0,   0,   0,   0,   0,\n",
              "          0,   0,   0,   0,   0,   0,   0,   0,   0,   0,   0,   0,   0,\n",
              "          0,   0],\n",
              "       [  0,   0,   0,   0,   0,   0,   0,   0,   0,   0,   0,   0,   0,\n",
              "          0,   0,   0,   0,   0,   0,   0,   0,   0,   0,   0,   0,   0,\n",
              "          0,   0],\n",
              "       [  0,   0,   0,   0,   0,   0,   0,   0,   0,   0,   0,   0,   3,\n",
              "         18,  18,  18, 126, 136, 175,  26, 166, 255, 247, 127,   0,   0,\n",
              "          0,   0],\n",
              "       [  0,   0,   0,   0,   0,   0,   0,   0,  30,  36,  94, 154, 170,\n",
              "        253, 253, 253, 253, 253, 225, 172, 253, 242, 195,  64,   0,   0,\n",
              "          0,   0],\n",
              "       [  0,   0,   0,   0,   0,   0,   0,  49, 238, 253, 253, 253, 253,\n",
              "        253, 253, 253, 253, 251,  93,  82,  82,  56,  39,   0,   0,   0,\n",
              "          0,   0],\n",
              "       [  0,   0,   0,   0,   0,   0,   0,  18, 219, 253, 253, 253, 253,\n",
              "        253, 198, 182, 247, 241,   0,   0,   0,   0,   0,   0,   0,   0,\n",
              "          0,   0],\n",
              "       [  0,   0,   0,   0,   0,   0,   0,   0,  80, 156, 107, 253, 253,\n",
              "        205,  11,   0,  43, 154,   0,   0,   0,   0,   0,   0,   0,   0,\n",
              "          0,   0],\n",
              "       [  0,   0,   0,   0,   0,   0,   0,   0,   0,  14,   1, 154, 253,\n",
              "         90,   0,   0,   0,   0,   0,   0,   0,   0,   0,   0,   0,   0,\n",
              "          0,   0],\n",
              "       [  0,   0,   0,   0,   0,   0,   0,   0,   0,   0,   0, 139, 253,\n",
              "        190,   2,   0,   0,   0,   0,   0,   0,   0,   0,   0,   0,   0,\n",
              "          0,   0],\n",
              "       [  0,   0,   0,   0,   0,   0,   0,   0,   0,   0,   0,  11, 190,\n",
              "        253,  70,   0,   0,   0,   0,   0,   0,   0,   0,   0,   0,   0,\n",
              "          0,   0],\n",
              "       [  0,   0,   0,   0,   0,   0,   0,   0,   0,   0,   0,   0,  35,\n",
              "        241, 225, 160, 108,   1,   0,   0,   0,   0,   0,   0,   0,   0,\n",
              "          0,   0],\n",
              "       [  0,   0,   0,   0,   0,   0,   0,   0,   0,   0,   0,   0,   0,\n",
              "         81, 240, 253, 253, 119,  25,   0,   0,   0,   0,   0,   0,   0,\n",
              "          0,   0],\n",
              "       [  0,   0,   0,   0,   0,   0,   0,   0,   0,   0,   0,   0,   0,\n",
              "          0,  45, 186, 253, 253, 150,  27,   0,   0,   0,   0,   0,   0,\n",
              "          0,   0],\n",
              "       [  0,   0,   0,   0,   0,   0,   0,   0,   0,   0,   0,   0,   0,\n",
              "          0,   0,  16,  93, 252, 253, 187,   0,   0,   0,   0,   0,   0,\n",
              "          0,   0],\n",
              "       [  0,   0,   0,   0,   0,   0,   0,   0,   0,   0,   0,   0,   0,\n",
              "          0,   0,   0,   0, 249, 253, 249,  64,   0,   0,   0,   0,   0,\n",
              "          0,   0],\n",
              "       [  0,   0,   0,   0,   0,   0,   0,   0,   0,   0,   0,   0,   0,\n",
              "          0,  46, 130, 183, 253, 253, 207,   2,   0,   0,   0,   0,   0,\n",
              "          0,   0],\n",
              "       [  0,   0,   0,   0,   0,   0,   0,   0,   0,   0,   0,   0,  39,\n",
              "        148, 229, 253, 253, 253, 250, 182,   0,   0,   0,   0,   0,   0,\n",
              "          0,   0],\n",
              "       [  0,   0,   0,   0,   0,   0,   0,   0,   0,   0,  24, 114, 221,\n",
              "        253, 253, 253, 253, 201,  78,   0,   0,   0,   0,   0,   0,   0,\n",
              "          0,   0],\n",
              "       [  0,   0,   0,   0,   0,   0,   0,   0,  23,  66, 213, 253, 253,\n",
              "        253, 253, 198,  81,   2,   0,   0,   0,   0,   0,   0,   0,   0,\n",
              "          0,   0],\n",
              "       [  0,   0,   0,   0,   0,   0,  18, 171, 219, 253, 253, 253, 253,\n",
              "        195,  80,   9,   0,   0,   0,   0,   0,   0,   0,   0,   0,   0,\n",
              "          0,   0],\n",
              "       [  0,   0,   0,   0,  55, 172, 226, 253, 253, 253, 253, 244, 133,\n",
              "         11,   0,   0,   0,   0,   0,   0,   0,   0,   0,   0,   0,   0,\n",
              "          0,   0],\n",
              "       [  0,   0,   0,   0, 136, 253, 253, 253, 212, 135, 132,  16,   0,\n",
              "          0,   0,   0,   0,   0,   0,   0,   0,   0,   0,   0,   0,   0,\n",
              "          0,   0],\n",
              "       [  0,   0,   0,   0,   0,   0,   0,   0,   0,   0,   0,   0,   0,\n",
              "          0,   0,   0,   0,   0,   0,   0,   0,   0,   0,   0,   0,   0,\n",
              "          0,   0],\n",
              "       [  0,   0,   0,   0,   0,   0,   0,   0,   0,   0,   0,   0,   0,\n",
              "          0,   0,   0,   0,   0,   0,   0,   0,   0,   0,   0,   0,   0,\n",
              "          0,   0],\n",
              "       [  0,   0,   0,   0,   0,   0,   0,   0,   0,   0,   0,   0,   0,\n",
              "          0,   0,   0,   0,   0,   0,   0,   0,   0,   0,   0,   0,   0,\n",
              "          0,   0]], dtype=uint8)"
            ],
            "text/html": [
              "<style>\n",
              "      .ndarray_repr .ndarray_raw_data {\n",
              "        display: none;\n",
              "      }\n",
              "      .ndarray_repr.show_array .ndarray_raw_data {\n",
              "        display: block;\n",
              "      }\n",
              "      .ndarray_repr.show_array .ndarray_image_preview {\n",
              "        display: none;\n",
              "      }\n",
              "      </style>\n",
              "      <div id=\"id-1cb5485e-c12d-47fb-9118-2dbe5a8a3aaf\" class=\"ndarray_repr\"><pre>ndarray (28, 28) <button style=\"padding: 0 2px;\">show data</button></pre><img src=\"data:image/png;base64,iVBORw0KGgoAAAANSUhEUgAAABwAAAAcCAAAAABXZoBIAAABAElEQVR4nGNgGMyAWUhIqK5jvdSy/9/rGRgYGFhgEnJsVjYCwQwMDAxPJgV+vniQgYGBgREqZ7iXH8r6l/SV4dn7m8gmCt3++/fv37/Htn3/iMW+gDnZf/+e5WbQnoXNNXyMs/5GoQoxwVmf/n9kSGFiwAW49/11wynJoPzx4YIcRlyygR/+/i2XxCWru+vv32nSuGQFYv/83Y3b4p9/fzpAmSyoMnohpiwM1w5h06Q+5enfv39/bcMiJVF09+/fv39P+mFKiTtd/fv3799jgZiBJLT69t+/f/8eDuDEkDJf8+jv379/v7Ryo4qzMDAwMAQGMjBc3/y35wM2V1IfAABFF16Aa0wAOwAAAABJRU5ErkJggg==\" class=\"ndarray_image_preview\" /><pre class=\"ndarray_raw_data\">array([[  0,   0,   0,   0,   0,   0,   0,   0,   0,   0,   0,   0,   0,\n",
              "          0,   0,   0,   0,   0,   0,   0,   0,   0,   0,   0,   0,   0,\n",
              "          0,   0],\n",
              "       [  0,   0,   0,   0,   0,   0,   0,   0,   0,   0,   0,   0,   0,\n",
              "          0,   0,   0,   0,   0,   0,   0,   0,   0,   0,   0,   0,   0,\n",
              "          0,   0],\n",
              "       [  0,   0,   0,   0,   0,   0,   0,   0,   0,   0,   0,   0,   0,\n",
              "          0,   0,   0,   0,   0,   0,   0,   0,   0,   0,   0,   0,   0,\n",
              "          0,   0],\n",
              "       [  0,   0,   0,   0,   0,   0,   0,   0,   0,   0,   0,   0,   0,\n",
              "          0,   0,   0,   0,   0,   0,   0,   0,   0,   0,   0,   0,   0,\n",
              "          0,   0],\n",
              "       [  0,   0,   0,   0,   0,   0,   0,   0,   0,   0,   0,   0,   0,\n",
              "          0,   0,   0,   0,   0,   0,   0,   0,   0,   0,   0,   0,   0,\n",
              "          0,   0],\n",
              "       [  0,   0,   0,   0,   0,   0,   0,   0,   0,   0,   0,   0,   3,\n",
              "         18,  18,  18, 126, 136, 175,  26, 166, 255, 247, 127,   0,   0,\n",
              "          0,   0],\n",
              "       [  0,   0,   0,   0,   0,   0,   0,   0,  30,  36,  94, 154, 170,\n",
              "        253, 253, 253, 253, 253, 225, 172, 253, 242, 195,  64,   0,   0,\n",
              "          0,   0],\n",
              "       [  0,   0,   0,   0,   0,   0,   0,  49, 238, 253, 253, 253, 253,\n",
              "        253, 253, 253, 253, 251,  93,  82,  82,  56,  39,   0,   0,   0,\n",
              "          0,   0],\n",
              "       [  0,   0,   0,   0,   0,   0,   0,  18, 219, 253, 253, 253, 253,\n",
              "        253, 198, 182, 247, 241,   0,   0,   0,   0,   0,   0,   0,   0,\n",
              "          0,   0],\n",
              "       [  0,   0,   0,   0,   0,   0,   0,   0,  80, 156, 107, 253, 253,\n",
              "        205,  11,   0,  43, 154,   0,   0,   0,   0,   0,   0,   0,   0,\n",
              "          0,   0],\n",
              "       [  0,   0,   0,   0,   0,   0,   0,   0,   0,  14,   1, 154, 253,\n",
              "         90,   0,   0,   0,   0,   0,   0,   0,   0,   0,   0,   0,   0,\n",
              "          0,   0],\n",
              "       [  0,   0,   0,   0,   0,   0,   0,   0,   0,   0,   0, 139, 253,\n",
              "        190,   2,   0,   0,   0,   0,   0,   0,   0,   0,   0,   0,   0,\n",
              "          0,   0],\n",
              "       [  0,   0,   0,   0,   0,   0,   0,   0,   0,   0,   0,  11, 190,\n",
              "        253,  70,   0,   0,   0,   0,   0,   0,   0,   0,   0,   0,   0,\n",
              "          0,   0],\n",
              "       [  0,   0,   0,   0,   0,   0,   0,   0,   0,   0,   0,   0,  35,\n",
              "        241, 225, 160, 108,   1,   0,   0,   0,   0,   0,   0,   0,   0,\n",
              "          0,   0],\n",
              "       [  0,   0,   0,   0,   0,   0,   0,   0,   0,   0,   0,   0,   0,\n",
              "         81, 240, 253, 253, 119,  25,   0,   0,   0,   0,   0,   0,   0,\n",
              "          0,   0],\n",
              "       [  0,   0,   0,   0,   0,   0,   0,   0,   0,   0,   0,   0,   0,\n",
              "          0,  45, 186, 253, 253, 150,  27,   0,   0,   0,   0,   0,   0,\n",
              "          0,   0],\n",
              "       [  0,   0,   0,   0,   0,   0,   0,   0,   0,   0,   0,   0,   0,\n",
              "          0,   0,  16,  93, 252, 253, 187,   0,   0,   0,   0,   0,   0,\n",
              "          0,   0],\n",
              "       [  0,   0,   0,   0,   0,   0,   0,   0,   0,   0,   0,   0,   0,\n",
              "          0,   0,   0,   0, 249, 253, 249,  64,   0,   0,   0,   0,   0,\n",
              "          0,   0],\n",
              "       [  0,   0,   0,   0,   0,   0,   0,   0,   0,   0,   0,   0,   0,\n",
              "          0,  46, 130, 183, 253, 253, 207,   2,   0,   0,   0,   0,   0,\n",
              "          0,   0],\n",
              "       [  0,   0,   0,   0,   0,   0,   0,   0,   0,   0,   0,   0,  39,\n",
              "        148, 229, 253, 253, 253, 250, 182,   0,   0,   0,   0,   0,   0,\n",
              "          0,   0],\n",
              "       [  0,   0,   0,   0,   0,   0,   0,   0,   0,   0,  24, 114, 221,\n",
              "        253, 253, 253, 253, 201,  78,   0,   0,   0,   0,   0,   0,   0,\n",
              "          0,   0],\n",
              "       [  0,   0,   0,   0,   0,   0,   0,   0,  23,  66, 213, 253, 253,\n",
              "        253, 253, 198,  81,   2,   0,   0,   0,   0,   0,   0,   0,   0,\n",
              "          0,   0],\n",
              "       [  0,   0,   0,   0,   0,   0,  18, 171, 219, 253, 253, 253, 253,\n",
              "        195,  80,   9,   0,   0,   0,   0,   0,   0,   0,   0,   0,   0,\n",
              "          0,   0],\n",
              "       [  0,   0,   0,   0,  55, 172, 226, 253, 253, 253, 253, 244, 133,\n",
              "         11,   0,   0,   0,   0,   0,   0,   0,   0,   0,   0,   0,   0,\n",
              "          0,   0],\n",
              "       [  0,   0,   0,   0, 136, 253, 253, 253, 212, 135, 132,  16,   0,\n",
              "          0,   0,   0,   0,   0,   0,   0,   0,   0,   0,   0,   0,   0,\n",
              "          0,   0],\n",
              "       [  0,   0,   0,   0,   0,   0,   0,   0,   0,   0,   0,   0,   0,\n",
              "          0,   0,   0,   0,   0,   0,   0,   0,   0,   0,   0,   0,   0,\n",
              "          0,   0],\n",
              "       [  0,   0,   0,   0,   0,   0,   0,   0,   0,   0,   0,   0,   0,\n",
              "          0,   0,   0,   0,   0,   0,   0,   0,   0,   0,   0,   0,   0,\n",
              "          0,   0],\n",
              "       [  0,   0,   0,   0,   0,   0,   0,   0,   0,   0,   0,   0,   0,\n",
              "          0,   0,   0,   0,   0,   0,   0,   0,   0,   0,   0,   0,   0,\n",
              "          0,   0]], dtype=uint8)</pre></div><script>\n",
              "      (() => {\n",
              "      const titles = ['show data', 'hide data'];\n",
              "      let index = 0\n",
              "      document.querySelector('#id-1cb5485e-c12d-47fb-9118-2dbe5a8a3aaf button').onclick = (e) => {\n",
              "        document.querySelector('#id-1cb5485e-c12d-47fb-9118-2dbe5a8a3aaf').classList.toggle('show_array');\n",
              "        index = (++index) % 2;\n",
              "        document.querySelector('#id-1cb5485e-c12d-47fb-9118-2dbe5a8a3aaf button').textContent = titles[index];\n",
              "        e.preventDefault();\n",
              "        e.stopPropagation();\n",
              "      }\n",
              "      })();\n",
              "    </script>"
            ]
          },
          "metadata": {},
          "execution_count": 5
        }
      ]
    },
    {
      "cell_type": "code",
      "source": [
        "import tensorflow as tf\n",
        "from tensorflow.keras import layers, models\n",
        "from sklearn.model_selection import KFold\n",
        "import numpy as np\n",
        "\n",
        "# Load MNIST data\n",
        "(x_train, y_train), (x_test, y_test) = tf.keras.datasets.mnist.load_data()\n",
        "\n",
        "# Normalize the data to range [0, 1]\n",
        "x_train = x_train.astype('float32') / 255.0\n",
        "x_test = x_test.astype('float32') / 255.0\n",
        "\n",
        "# Reshape data to include channel dimension (for CNN)\n",
        "x_train = x_train[..., np.newaxis]\n",
        "x_test = x_test[..., np.newaxis]\n",
        "\n",
        "# One-hot encode the labels\n",
        "y_train = tf.keras.utils.to_categorical(y_train, 10)\n",
        "y_test = tf.keras.utils.to_categorical(y_test, 10)"
      ],
      "metadata": {
        "id": "7SG6bmKn7Y8a"
      },
      "execution_count": null,
      "outputs": []
    },
    {
      "cell_type": "code",
      "source": [
        "print(x_train)"
      ],
      "metadata": {
        "colab": {
          "base_uri": "https://localhost:8080/"
        },
        "id": "EK5R8Eh27gBG",
        "outputId": "a7274805-bfb6-4389-fceb-2e69587ef79a"
      },
      "execution_count": null,
      "outputs": [
        {
          "output_type": "stream",
          "name": "stdout",
          "text": [
            "[[[[0.]\n",
            "   [0.]\n",
            "   [0.]\n",
            "   ...\n",
            "   [0.]\n",
            "   [0.]\n",
            "   [0.]]\n",
            "\n",
            "  [[0.]\n",
            "   [0.]\n",
            "   [0.]\n",
            "   ...\n",
            "   [0.]\n",
            "   [0.]\n",
            "   [0.]]\n",
            "\n",
            "  [[0.]\n",
            "   [0.]\n",
            "   [0.]\n",
            "   ...\n",
            "   [0.]\n",
            "   [0.]\n",
            "   [0.]]\n",
            "\n",
            "  ...\n",
            "\n",
            "  [[0.]\n",
            "   [0.]\n",
            "   [0.]\n",
            "   ...\n",
            "   [0.]\n",
            "   [0.]\n",
            "   [0.]]\n",
            "\n",
            "  [[0.]\n",
            "   [0.]\n",
            "   [0.]\n",
            "   ...\n",
            "   [0.]\n",
            "   [0.]\n",
            "   [0.]]\n",
            "\n",
            "  [[0.]\n",
            "   [0.]\n",
            "   [0.]\n",
            "   ...\n",
            "   [0.]\n",
            "   [0.]\n",
            "   [0.]]]\n",
            "\n",
            "\n",
            " [[[0.]\n",
            "   [0.]\n",
            "   [0.]\n",
            "   ...\n",
            "   [0.]\n",
            "   [0.]\n",
            "   [0.]]\n",
            "\n",
            "  [[0.]\n",
            "   [0.]\n",
            "   [0.]\n",
            "   ...\n",
            "   [0.]\n",
            "   [0.]\n",
            "   [0.]]\n",
            "\n",
            "  [[0.]\n",
            "   [0.]\n",
            "   [0.]\n",
            "   ...\n",
            "   [0.]\n",
            "   [0.]\n",
            "   [0.]]\n",
            "\n",
            "  ...\n",
            "\n",
            "  [[0.]\n",
            "   [0.]\n",
            "   [0.]\n",
            "   ...\n",
            "   [0.]\n",
            "   [0.]\n",
            "   [0.]]\n",
            "\n",
            "  [[0.]\n",
            "   [0.]\n",
            "   [0.]\n",
            "   ...\n",
            "   [0.]\n",
            "   [0.]\n",
            "   [0.]]\n",
            "\n",
            "  [[0.]\n",
            "   [0.]\n",
            "   [0.]\n",
            "   ...\n",
            "   [0.]\n",
            "   [0.]\n",
            "   [0.]]]\n",
            "\n",
            "\n",
            " [[[0.]\n",
            "   [0.]\n",
            "   [0.]\n",
            "   ...\n",
            "   [0.]\n",
            "   [0.]\n",
            "   [0.]]\n",
            "\n",
            "  [[0.]\n",
            "   [0.]\n",
            "   [0.]\n",
            "   ...\n",
            "   [0.]\n",
            "   [0.]\n",
            "   [0.]]\n",
            "\n",
            "  [[0.]\n",
            "   [0.]\n",
            "   [0.]\n",
            "   ...\n",
            "   [0.]\n",
            "   [0.]\n",
            "   [0.]]\n",
            "\n",
            "  ...\n",
            "\n",
            "  [[0.]\n",
            "   [0.]\n",
            "   [0.]\n",
            "   ...\n",
            "   [0.]\n",
            "   [0.]\n",
            "   [0.]]\n",
            "\n",
            "  [[0.]\n",
            "   [0.]\n",
            "   [0.]\n",
            "   ...\n",
            "   [0.]\n",
            "   [0.]\n",
            "   [0.]]\n",
            "\n",
            "  [[0.]\n",
            "   [0.]\n",
            "   [0.]\n",
            "   ...\n",
            "   [0.]\n",
            "   [0.]\n",
            "   [0.]]]\n",
            "\n",
            "\n",
            " ...\n",
            "\n",
            "\n",
            " [[[0.]\n",
            "   [0.]\n",
            "   [0.]\n",
            "   ...\n",
            "   [0.]\n",
            "   [0.]\n",
            "   [0.]]\n",
            "\n",
            "  [[0.]\n",
            "   [0.]\n",
            "   [0.]\n",
            "   ...\n",
            "   [0.]\n",
            "   [0.]\n",
            "   [0.]]\n",
            "\n",
            "  [[0.]\n",
            "   [0.]\n",
            "   [0.]\n",
            "   ...\n",
            "   [0.]\n",
            "   [0.]\n",
            "   [0.]]\n",
            "\n",
            "  ...\n",
            "\n",
            "  [[0.]\n",
            "   [0.]\n",
            "   [0.]\n",
            "   ...\n",
            "   [0.]\n",
            "   [0.]\n",
            "   [0.]]\n",
            "\n",
            "  [[0.]\n",
            "   [0.]\n",
            "   [0.]\n",
            "   ...\n",
            "   [0.]\n",
            "   [0.]\n",
            "   [0.]]\n",
            "\n",
            "  [[0.]\n",
            "   [0.]\n",
            "   [0.]\n",
            "   ...\n",
            "   [0.]\n",
            "   [0.]\n",
            "   [0.]]]\n",
            "\n",
            "\n",
            " [[[0.]\n",
            "   [0.]\n",
            "   [0.]\n",
            "   ...\n",
            "   [0.]\n",
            "   [0.]\n",
            "   [0.]]\n",
            "\n",
            "  [[0.]\n",
            "   [0.]\n",
            "   [0.]\n",
            "   ...\n",
            "   [0.]\n",
            "   [0.]\n",
            "   [0.]]\n",
            "\n",
            "  [[0.]\n",
            "   [0.]\n",
            "   [0.]\n",
            "   ...\n",
            "   [0.]\n",
            "   [0.]\n",
            "   [0.]]\n",
            "\n",
            "  ...\n",
            "\n",
            "  [[0.]\n",
            "   [0.]\n",
            "   [0.]\n",
            "   ...\n",
            "   [0.]\n",
            "   [0.]\n",
            "   [0.]]\n",
            "\n",
            "  [[0.]\n",
            "   [0.]\n",
            "   [0.]\n",
            "   ...\n",
            "   [0.]\n",
            "   [0.]\n",
            "   [0.]]\n",
            "\n",
            "  [[0.]\n",
            "   [0.]\n",
            "   [0.]\n",
            "   ...\n",
            "   [0.]\n",
            "   [0.]\n",
            "   [0.]]]\n",
            "\n",
            "\n",
            " [[[0.]\n",
            "   [0.]\n",
            "   [0.]\n",
            "   ...\n",
            "   [0.]\n",
            "   [0.]\n",
            "   [0.]]\n",
            "\n",
            "  [[0.]\n",
            "   [0.]\n",
            "   [0.]\n",
            "   ...\n",
            "   [0.]\n",
            "   [0.]\n",
            "   [0.]]\n",
            "\n",
            "  [[0.]\n",
            "   [0.]\n",
            "   [0.]\n",
            "   ...\n",
            "   [0.]\n",
            "   [0.]\n",
            "   [0.]]\n",
            "\n",
            "  ...\n",
            "\n",
            "  [[0.]\n",
            "   [0.]\n",
            "   [0.]\n",
            "   ...\n",
            "   [0.]\n",
            "   [0.]\n",
            "   [0.]]\n",
            "\n",
            "  [[0.]\n",
            "   [0.]\n",
            "   [0.]\n",
            "   ...\n",
            "   [0.]\n",
            "   [0.]\n",
            "   [0.]]\n",
            "\n",
            "  [[0.]\n",
            "   [0.]\n",
            "   [0.]\n",
            "   ...\n",
            "   [0.]\n",
            "   [0.]\n",
            "   [0.]]]]\n"
          ]
        }
      ]
    },
    {
      "cell_type": "code",
      "source": [
        "import tensorflow as tf\n",
        "from tensorflow.keras import layers, models\n",
        "from sklearn.model_selection import KFold\n",
        "import numpy as np\n",
        "\n",
        "# Load MNIST data\n",
        "(x_train, y_train), (x_test, y_test) = tf.keras.datasets.mnist.load_data()\n",
        "\n",
        "# Normalize the data to range [0, 1]\n",
        "x_train = x_train.astype('float32') / 255.0\n",
        "x_test = x_test.astype('float32') / 255.0\n",
        "\n",
        "# Reshape data to include channel dimension (for CNN)\n",
        "x_train = x_train[..., np.newaxis]\n",
        "x_test = x_test[..., np.newaxis]\n",
        "\n",
        "# One-hot encode the labels\n",
        "y_train = tf.keras.utils.to_categorical(y_train, 10)\n",
        "y_test = tf.keras.utils.to_categorical(y_test, 10)\n",
        "\n",
        "# Define the CNN model\n",
        "def create_cnn_model():\n",
        "    model = models.Sequential([\n",
        "        layers.Conv2D(32, kernel_size=(3, 3), activation='relu', input_shape=(28, 28, 1)),\n",
        "        layers.MaxPooling2D(pool_size=(2, 2)),\n",
        "        layers.Conv2D(64, kernel_size=(3, 3), activation='relu'),\n",
        "        layers.MaxPooling2D(pool_size=(2, 2)),\n",
        "        layers.Flatten(),\n",
        "        layers.Dense(128, activation='relu'),\n",
        "        layers.Dense(10, activation='softmax')\n",
        "    ])\n",
        "    model.compile(optimizer='adam', loss='categorical_crossentropy', metrics=['accuracy'])\n",
        "    return model\n",
        "\n",
        "# Perform 5-fold cross-validation\n",
        "kfold = KFold(n_splits=5, shuffle=True, random_state=42)\n",
        "accuracies = []\n",
        "test_error_rates = []\n",
        "\n",
        "for train_idx, val_idx in kfold.split(x_train):\n",
        "    # Split data into training and validation sets\n",
        "    x_train_fold, x_val_fold = x_train[train_idx], x_train[val_idx]\n",
        "    y_train_fold, y_val_fold = y_train[train_idx], y_train[val_idx]\n",
        "\n",
        "    # Create a new model instance\n",
        "    model = create_cnn_model()\n",
        "\n",
        "    # Train the model\n",
        "    model.fit(x_train_fold, y_train_fold, epochs=5, batch_size=64, validation_data=(x_val_fold, y_val_fold), verbose=2)\n",
        "\n",
        "    # Evaluate the model on the validation data\n",
        "    val_loss, val_accuracy = model.evaluate(x_val_fold, y_val_fold, verbose=0)\n",
        "\n",
        "    # Calculate validation test error rate\n",
        "    test_error_rate = (1 - val_accuracy) * 100\n",
        "    accuracies.append(val_accuracy)\n",
        "    test_error_rates.append(test_error_rate)\n",
        "\n",
        "# Evaluate the model on the test data\n",
        "final_test_loss, final_test_accuracy = model.evaluate(x_test, y_test, verbose=0)\n",
        "final_test_error_rate = (1 - final_test_accuracy) * 100\n",
        "\n",
        "# Print final results\n",
        "print(f\"Cross-validated Accuracy: {np.mean(accuracies) * 100:.2f}%\")\n",
        "print(f\"Cross-validated Test Error Rate: {np.mean(test_error_rates):.2f}%\")\n",
        "print(f\"Test Set Accuracy: {final_test_accuracy * 100:.2f}%\")\n",
        "print(f\"Test Set Error Rate: {final_test_error_rate:.2f}%\")\n"
      ],
      "metadata": {
        "colab": {
          "base_uri": "https://localhost:8080/",
          "height": 428
        },
        "outputId": "14fa5da9-d755-4cfc-acd3-672382f7c306",
        "id": "0kv_AtPb7ZaH"
      },
      "execution_count": null,
      "outputs": [
        {
          "output_type": "stream",
          "name": "stderr",
          "text": [
            "/usr/local/lib/python3.10/dist-packages/keras/src/layers/convolutional/base_conv.py:107: UserWarning: Do not pass an `input_shape`/`input_dim` argument to a layer. When using Sequential models, prefer using an `Input(shape)` object as the first layer in the model instead.\n",
            "  super().__init__(activity_regularizer=activity_regularizer, **kwargs)\n"
          ]
        },
        {
          "output_type": "stream",
          "name": "stdout",
          "text": [
            "Epoch 1/5\n"
          ]
        },
        {
          "output_type": "error",
          "ename": "KeyboardInterrupt",
          "evalue": "",
          "traceback": [
            "\u001b[0;31m---------------------------------------------------------------------------\u001b[0m",
            "\u001b[0;31mKeyboardInterrupt\u001b[0m                         Traceback (most recent call last)",
            "\u001b[0;32m<ipython-input-9-cebdc77a8b7f>\u001b[0m in \u001b[0;36m<cell line: 40>\u001b[0;34m()\u001b[0m\n\u001b[1;32m     47\u001b[0m \u001b[0;34m\u001b[0m\u001b[0m\n\u001b[1;32m     48\u001b[0m     \u001b[0;31m# Train the model\u001b[0m\u001b[0;34m\u001b[0m\u001b[0;34m\u001b[0m\u001b[0m\n\u001b[0;32m---> 49\u001b[0;31m     \u001b[0mmodel\u001b[0m\u001b[0;34m.\u001b[0m\u001b[0mfit\u001b[0m\u001b[0;34m(\u001b[0m\u001b[0mx_train_fold\u001b[0m\u001b[0;34m,\u001b[0m \u001b[0my_train_fold\u001b[0m\u001b[0;34m,\u001b[0m \u001b[0mepochs\u001b[0m\u001b[0;34m=\u001b[0m\u001b[0;36m5\u001b[0m\u001b[0;34m,\u001b[0m \u001b[0mbatch_size\u001b[0m\u001b[0;34m=\u001b[0m\u001b[0;36m64\u001b[0m\u001b[0;34m,\u001b[0m \u001b[0mvalidation_data\u001b[0m\u001b[0;34m=\u001b[0m\u001b[0;34m(\u001b[0m\u001b[0mx_val_fold\u001b[0m\u001b[0;34m,\u001b[0m \u001b[0my_val_fold\u001b[0m\u001b[0;34m)\u001b[0m\u001b[0;34m,\u001b[0m \u001b[0mverbose\u001b[0m\u001b[0;34m=\u001b[0m\u001b[0;36m2\u001b[0m\u001b[0;34m)\u001b[0m\u001b[0;34m\u001b[0m\u001b[0;34m\u001b[0m\u001b[0m\n\u001b[0m\u001b[1;32m     50\u001b[0m \u001b[0;34m\u001b[0m\u001b[0m\n\u001b[1;32m     51\u001b[0m     \u001b[0;31m# Evaluate the model on the validation data\u001b[0m\u001b[0;34m\u001b[0m\u001b[0;34m\u001b[0m\u001b[0m\n",
            "\u001b[0;32m/usr/local/lib/python3.10/dist-packages/keras/src/utils/traceback_utils.py\u001b[0m in \u001b[0;36merror_handler\u001b[0;34m(*args, **kwargs)\u001b[0m\n\u001b[1;32m    115\u001b[0m         \u001b[0mfiltered_tb\u001b[0m \u001b[0;34m=\u001b[0m \u001b[0;32mNone\u001b[0m\u001b[0;34m\u001b[0m\u001b[0;34m\u001b[0m\u001b[0m\n\u001b[1;32m    116\u001b[0m         \u001b[0;32mtry\u001b[0m\u001b[0;34m:\u001b[0m\u001b[0;34m\u001b[0m\u001b[0;34m\u001b[0m\u001b[0m\n\u001b[0;32m--> 117\u001b[0;31m             \u001b[0;32mreturn\u001b[0m \u001b[0mfn\u001b[0m\u001b[0;34m(\u001b[0m\u001b[0;34m*\u001b[0m\u001b[0margs\u001b[0m\u001b[0;34m,\u001b[0m \u001b[0;34m**\u001b[0m\u001b[0mkwargs\u001b[0m\u001b[0;34m)\u001b[0m\u001b[0;34m\u001b[0m\u001b[0;34m\u001b[0m\u001b[0m\n\u001b[0m\u001b[1;32m    118\u001b[0m         \u001b[0;32mexcept\u001b[0m \u001b[0mException\u001b[0m \u001b[0;32mas\u001b[0m \u001b[0me\u001b[0m\u001b[0;34m:\u001b[0m\u001b[0;34m\u001b[0m\u001b[0;34m\u001b[0m\u001b[0m\n\u001b[1;32m    119\u001b[0m             \u001b[0mfiltered_tb\u001b[0m \u001b[0;34m=\u001b[0m \u001b[0m_process_traceback_frames\u001b[0m\u001b[0;34m(\u001b[0m\u001b[0me\u001b[0m\u001b[0;34m.\u001b[0m\u001b[0m__traceback__\u001b[0m\u001b[0;34m)\u001b[0m\u001b[0;34m\u001b[0m\u001b[0;34m\u001b[0m\u001b[0m\n",
            "\u001b[0;32m/usr/local/lib/python3.10/dist-packages/keras/src/backend/tensorflow/trainer.py\u001b[0m in \u001b[0;36mfit\u001b[0;34m(self, x, y, batch_size, epochs, verbose, callbacks, validation_split, validation_data, shuffle, class_weight, sample_weight, initial_epoch, steps_per_epoch, validation_steps, validation_batch_size, validation_freq)\u001b[0m\n\u001b[1;32m    316\u001b[0m                 \u001b[0;32mfor\u001b[0m \u001b[0mstep\u001b[0m\u001b[0;34m,\u001b[0m \u001b[0miterator\u001b[0m \u001b[0;32min\u001b[0m \u001b[0mepoch_iterator\u001b[0m\u001b[0;34m.\u001b[0m\u001b[0menumerate_epoch\u001b[0m\u001b[0;34m(\u001b[0m\u001b[0;34m)\u001b[0m\u001b[0;34m:\u001b[0m\u001b[0;34m\u001b[0m\u001b[0;34m\u001b[0m\u001b[0m\n\u001b[1;32m    317\u001b[0m                     \u001b[0mcallbacks\u001b[0m\u001b[0;34m.\u001b[0m\u001b[0mon_train_batch_begin\u001b[0m\u001b[0;34m(\u001b[0m\u001b[0mstep\u001b[0m\u001b[0;34m)\u001b[0m\u001b[0;34m\u001b[0m\u001b[0;34m\u001b[0m\u001b[0m\n\u001b[0;32m--> 318\u001b[0;31m                     \u001b[0mlogs\u001b[0m \u001b[0;34m=\u001b[0m \u001b[0mself\u001b[0m\u001b[0;34m.\u001b[0m\u001b[0mtrain_function\u001b[0m\u001b[0;34m(\u001b[0m\u001b[0miterator\u001b[0m\u001b[0;34m)\u001b[0m\u001b[0;34m\u001b[0m\u001b[0;34m\u001b[0m\u001b[0m\n\u001b[0m\u001b[1;32m    319\u001b[0m                     \u001b[0mlogs\u001b[0m \u001b[0;34m=\u001b[0m \u001b[0mself\u001b[0m\u001b[0;34m.\u001b[0m\u001b[0m_pythonify_logs\u001b[0m\u001b[0;34m(\u001b[0m\u001b[0mlogs\u001b[0m\u001b[0;34m)\u001b[0m\u001b[0;34m\u001b[0m\u001b[0;34m\u001b[0m\u001b[0m\n\u001b[1;32m    320\u001b[0m                     \u001b[0mcallbacks\u001b[0m\u001b[0;34m.\u001b[0m\u001b[0mon_train_batch_end\u001b[0m\u001b[0;34m(\u001b[0m\u001b[0mstep\u001b[0m\u001b[0;34m,\u001b[0m \u001b[0mlogs\u001b[0m\u001b[0;34m)\u001b[0m\u001b[0;34m\u001b[0m\u001b[0;34m\u001b[0m\u001b[0m\n",
            "\u001b[0;32m/usr/local/lib/python3.10/dist-packages/tensorflow/python/util/traceback_utils.py\u001b[0m in \u001b[0;36merror_handler\u001b[0;34m(*args, **kwargs)\u001b[0m\n\u001b[1;32m    148\u001b[0m     \u001b[0mfiltered_tb\u001b[0m \u001b[0;34m=\u001b[0m \u001b[0;32mNone\u001b[0m\u001b[0;34m\u001b[0m\u001b[0;34m\u001b[0m\u001b[0m\n\u001b[1;32m    149\u001b[0m     \u001b[0;32mtry\u001b[0m\u001b[0;34m:\u001b[0m\u001b[0;34m\u001b[0m\u001b[0;34m\u001b[0m\u001b[0m\n\u001b[0;32m--> 150\u001b[0;31m       \u001b[0;32mreturn\u001b[0m \u001b[0mfn\u001b[0m\u001b[0;34m(\u001b[0m\u001b[0;34m*\u001b[0m\u001b[0margs\u001b[0m\u001b[0;34m,\u001b[0m \u001b[0;34m**\u001b[0m\u001b[0mkwargs\u001b[0m\u001b[0;34m)\u001b[0m\u001b[0;34m\u001b[0m\u001b[0;34m\u001b[0m\u001b[0m\n\u001b[0m\u001b[1;32m    151\u001b[0m     \u001b[0;32mexcept\u001b[0m \u001b[0mException\u001b[0m \u001b[0;32mas\u001b[0m \u001b[0me\u001b[0m\u001b[0;34m:\u001b[0m\u001b[0;34m\u001b[0m\u001b[0;34m\u001b[0m\u001b[0m\n\u001b[1;32m    152\u001b[0m       \u001b[0mfiltered_tb\u001b[0m \u001b[0;34m=\u001b[0m \u001b[0m_process_traceback_frames\u001b[0m\u001b[0;34m(\u001b[0m\u001b[0me\u001b[0m\u001b[0;34m.\u001b[0m\u001b[0m__traceback__\u001b[0m\u001b[0;34m)\u001b[0m\u001b[0;34m\u001b[0m\u001b[0;34m\u001b[0m\u001b[0m\n",
            "\u001b[0;32m/usr/local/lib/python3.10/dist-packages/tensorflow/python/eager/polymorphic_function/polymorphic_function.py\u001b[0m in \u001b[0;36m__call__\u001b[0;34m(self, *args, **kwds)\u001b[0m\n\u001b[1;32m    831\u001b[0m \u001b[0;34m\u001b[0m\u001b[0m\n\u001b[1;32m    832\u001b[0m       \u001b[0;32mwith\u001b[0m \u001b[0mOptionalXlaContext\u001b[0m\u001b[0;34m(\u001b[0m\u001b[0mself\u001b[0m\u001b[0;34m.\u001b[0m\u001b[0m_jit_compile\u001b[0m\u001b[0;34m)\u001b[0m\u001b[0;34m:\u001b[0m\u001b[0;34m\u001b[0m\u001b[0;34m\u001b[0m\u001b[0m\n\u001b[0;32m--> 833\u001b[0;31m         \u001b[0mresult\u001b[0m \u001b[0;34m=\u001b[0m \u001b[0mself\u001b[0m\u001b[0;34m.\u001b[0m\u001b[0m_call\u001b[0m\u001b[0;34m(\u001b[0m\u001b[0;34m*\u001b[0m\u001b[0margs\u001b[0m\u001b[0;34m,\u001b[0m \u001b[0;34m**\u001b[0m\u001b[0mkwds\u001b[0m\u001b[0;34m)\u001b[0m\u001b[0;34m\u001b[0m\u001b[0;34m\u001b[0m\u001b[0m\n\u001b[0m\u001b[1;32m    834\u001b[0m \u001b[0;34m\u001b[0m\u001b[0m\n\u001b[1;32m    835\u001b[0m       \u001b[0mnew_tracing_count\u001b[0m \u001b[0;34m=\u001b[0m \u001b[0mself\u001b[0m\u001b[0;34m.\u001b[0m\u001b[0mexperimental_get_tracing_count\u001b[0m\u001b[0;34m(\u001b[0m\u001b[0;34m)\u001b[0m\u001b[0;34m\u001b[0m\u001b[0;34m\u001b[0m\u001b[0m\n",
            "\u001b[0;32m/usr/local/lib/python3.10/dist-packages/tensorflow/python/eager/polymorphic_function/polymorphic_function.py\u001b[0m in \u001b[0;36m_call\u001b[0;34m(self, *args, **kwds)\u001b[0m\n\u001b[1;32m    917\u001b[0m           )\n\u001b[1;32m    918\u001b[0m       )\n\u001b[0;32m--> 919\u001b[0;31m       return self._concrete_variable_creation_fn._call_flat(  # pylint: disable=protected-access\n\u001b[0m\u001b[1;32m    920\u001b[0m           \u001b[0mfiltered_flat_args\u001b[0m\u001b[0;34m,\u001b[0m\u001b[0;34m\u001b[0m\u001b[0;34m\u001b[0m\u001b[0m\n\u001b[1;32m    921\u001b[0m           \u001b[0mself\u001b[0m\u001b[0;34m.\u001b[0m\u001b[0m_concrete_variable_creation_fn\u001b[0m\u001b[0;34m.\u001b[0m\u001b[0mcaptured_inputs\u001b[0m\u001b[0;34m,\u001b[0m\u001b[0;34m\u001b[0m\u001b[0;34m\u001b[0m\u001b[0m\n",
            "\u001b[0;32m/usr/local/lib/python3.10/dist-packages/tensorflow/python/eager/polymorphic_function/concrete_function.py\u001b[0m in \u001b[0;36m_call_flat\u001b[0;34m(self, tensor_inputs, captured_inputs)\u001b[0m\n\u001b[1;32m   1320\u001b[0m         and executing_eagerly):\n\u001b[1;32m   1321\u001b[0m       \u001b[0;31m# No tape is watching; skip to running the function.\u001b[0m\u001b[0;34m\u001b[0m\u001b[0;34m\u001b[0m\u001b[0m\n\u001b[0;32m-> 1322\u001b[0;31m       \u001b[0;32mreturn\u001b[0m \u001b[0mself\u001b[0m\u001b[0;34m.\u001b[0m\u001b[0m_inference_function\u001b[0m\u001b[0;34m.\u001b[0m\u001b[0mcall_preflattened\u001b[0m\u001b[0;34m(\u001b[0m\u001b[0margs\u001b[0m\u001b[0;34m)\u001b[0m\u001b[0;34m\u001b[0m\u001b[0;34m\u001b[0m\u001b[0m\n\u001b[0m\u001b[1;32m   1323\u001b[0m     forward_backward = self._select_forward_and_backward_functions(\n\u001b[1;32m   1324\u001b[0m         \u001b[0margs\u001b[0m\u001b[0;34m,\u001b[0m\u001b[0;34m\u001b[0m\u001b[0;34m\u001b[0m\u001b[0m\n",
            "\u001b[0;32m/usr/local/lib/python3.10/dist-packages/tensorflow/python/eager/polymorphic_function/atomic_function.py\u001b[0m in \u001b[0;36mcall_preflattened\u001b[0;34m(self, args)\u001b[0m\n\u001b[1;32m    214\u001b[0m   \u001b[0;32mdef\u001b[0m \u001b[0mcall_preflattened\u001b[0m\u001b[0;34m(\u001b[0m\u001b[0mself\u001b[0m\u001b[0;34m,\u001b[0m \u001b[0margs\u001b[0m\u001b[0;34m:\u001b[0m \u001b[0mSequence\u001b[0m\u001b[0;34m[\u001b[0m\u001b[0mcore\u001b[0m\u001b[0;34m.\u001b[0m\u001b[0mTensor\u001b[0m\u001b[0;34m]\u001b[0m\u001b[0;34m)\u001b[0m \u001b[0;34m->\u001b[0m \u001b[0mAny\u001b[0m\u001b[0;34m:\u001b[0m\u001b[0;34m\u001b[0m\u001b[0;34m\u001b[0m\u001b[0m\n\u001b[1;32m    215\u001b[0m     \u001b[0;34m\"\"\"Calls with flattened tensor inputs and returns the structured output.\"\"\"\u001b[0m\u001b[0;34m\u001b[0m\u001b[0;34m\u001b[0m\u001b[0m\n\u001b[0;32m--> 216\u001b[0;31m     \u001b[0mflat_outputs\u001b[0m \u001b[0;34m=\u001b[0m \u001b[0mself\u001b[0m\u001b[0;34m.\u001b[0m\u001b[0mcall_flat\u001b[0m\u001b[0;34m(\u001b[0m\u001b[0;34m*\u001b[0m\u001b[0margs\u001b[0m\u001b[0;34m)\u001b[0m\u001b[0;34m\u001b[0m\u001b[0;34m\u001b[0m\u001b[0m\n\u001b[0m\u001b[1;32m    217\u001b[0m     \u001b[0;32mreturn\u001b[0m \u001b[0mself\u001b[0m\u001b[0;34m.\u001b[0m\u001b[0mfunction_type\u001b[0m\u001b[0;34m.\u001b[0m\u001b[0mpack_output\u001b[0m\u001b[0;34m(\u001b[0m\u001b[0mflat_outputs\u001b[0m\u001b[0;34m)\u001b[0m\u001b[0;34m\u001b[0m\u001b[0;34m\u001b[0m\u001b[0m\n\u001b[1;32m    218\u001b[0m \u001b[0;34m\u001b[0m\u001b[0m\n",
            "\u001b[0;32m/usr/local/lib/python3.10/dist-packages/tensorflow/python/eager/polymorphic_function/atomic_function.py\u001b[0m in \u001b[0;36mcall_flat\u001b[0;34m(self, *args)\u001b[0m\n\u001b[1;32m    249\u001b[0m         \u001b[0;32mwith\u001b[0m \u001b[0mrecord\u001b[0m\u001b[0;34m.\u001b[0m\u001b[0mstop_recording\u001b[0m\u001b[0;34m(\u001b[0m\u001b[0;34m)\u001b[0m\u001b[0;34m:\u001b[0m\u001b[0;34m\u001b[0m\u001b[0;34m\u001b[0m\u001b[0m\n\u001b[1;32m    250\u001b[0m           \u001b[0;32mif\u001b[0m \u001b[0mself\u001b[0m\u001b[0;34m.\u001b[0m\u001b[0m_bound_context\u001b[0m\u001b[0;34m.\u001b[0m\u001b[0mexecuting_eagerly\u001b[0m\u001b[0;34m(\u001b[0m\u001b[0;34m)\u001b[0m\u001b[0;34m:\u001b[0m\u001b[0;34m\u001b[0m\u001b[0;34m\u001b[0m\u001b[0m\n\u001b[0;32m--> 251\u001b[0;31m             outputs = self._bound_context.call_function(\n\u001b[0m\u001b[1;32m    252\u001b[0m                 \u001b[0mself\u001b[0m\u001b[0;34m.\u001b[0m\u001b[0mname\u001b[0m\u001b[0;34m,\u001b[0m\u001b[0;34m\u001b[0m\u001b[0;34m\u001b[0m\u001b[0m\n\u001b[1;32m    253\u001b[0m                 \u001b[0mlist\u001b[0m\u001b[0;34m(\u001b[0m\u001b[0margs\u001b[0m\u001b[0;34m)\u001b[0m\u001b[0;34m,\u001b[0m\u001b[0;34m\u001b[0m\u001b[0;34m\u001b[0m\u001b[0m\n",
            "\u001b[0;32m/usr/local/lib/python3.10/dist-packages/tensorflow/python/eager/context.py\u001b[0m in \u001b[0;36mcall_function\u001b[0;34m(self, name, tensor_inputs, num_outputs)\u001b[0m\n\u001b[1;32m   1550\u001b[0m     \u001b[0mcancellation_context\u001b[0m \u001b[0;34m=\u001b[0m \u001b[0mcancellation\u001b[0m\u001b[0;34m.\u001b[0m\u001b[0mcontext\u001b[0m\u001b[0;34m(\u001b[0m\u001b[0;34m)\u001b[0m\u001b[0;34m\u001b[0m\u001b[0;34m\u001b[0m\u001b[0m\n\u001b[1;32m   1551\u001b[0m     \u001b[0;32mif\u001b[0m \u001b[0mcancellation_context\u001b[0m \u001b[0;32mis\u001b[0m \u001b[0;32mNone\u001b[0m\u001b[0;34m:\u001b[0m\u001b[0;34m\u001b[0m\u001b[0;34m\u001b[0m\u001b[0m\n\u001b[0;32m-> 1552\u001b[0;31m       outputs = execute.execute(\n\u001b[0m\u001b[1;32m   1553\u001b[0m           \u001b[0mname\u001b[0m\u001b[0;34m.\u001b[0m\u001b[0mdecode\u001b[0m\u001b[0;34m(\u001b[0m\u001b[0;34m\"utf-8\"\u001b[0m\u001b[0;34m)\u001b[0m\u001b[0;34m,\u001b[0m\u001b[0;34m\u001b[0m\u001b[0;34m\u001b[0m\u001b[0m\n\u001b[1;32m   1554\u001b[0m           \u001b[0mnum_outputs\u001b[0m\u001b[0;34m=\u001b[0m\u001b[0mnum_outputs\u001b[0m\u001b[0;34m,\u001b[0m\u001b[0;34m\u001b[0m\u001b[0;34m\u001b[0m\u001b[0m\n",
            "\u001b[0;32m/usr/local/lib/python3.10/dist-packages/tensorflow/python/eager/execute.py\u001b[0m in \u001b[0;36mquick_execute\u001b[0;34m(op_name, num_outputs, inputs, attrs, ctx, name)\u001b[0m\n\u001b[1;32m     51\u001b[0m   \u001b[0;32mtry\u001b[0m\u001b[0;34m:\u001b[0m\u001b[0;34m\u001b[0m\u001b[0;34m\u001b[0m\u001b[0m\n\u001b[1;32m     52\u001b[0m     \u001b[0mctx\u001b[0m\u001b[0;34m.\u001b[0m\u001b[0mensure_initialized\u001b[0m\u001b[0;34m(\u001b[0m\u001b[0;34m)\u001b[0m\u001b[0;34m\u001b[0m\u001b[0;34m\u001b[0m\u001b[0m\n\u001b[0;32m---> 53\u001b[0;31m     tensors = pywrap_tfe.TFE_Py_Execute(ctx._handle, device_name, op_name,\n\u001b[0m\u001b[1;32m     54\u001b[0m                                         inputs, attrs, num_outputs)\n\u001b[1;32m     55\u001b[0m   \u001b[0;32mexcept\u001b[0m \u001b[0mcore\u001b[0m\u001b[0;34m.\u001b[0m\u001b[0m_NotOkStatusException\u001b[0m \u001b[0;32mas\u001b[0m \u001b[0me\u001b[0m\u001b[0;34m:\u001b[0m\u001b[0;34m\u001b[0m\u001b[0;34m\u001b[0m\u001b[0m\n",
            "\u001b[0;31mKeyboardInterrupt\u001b[0m: "
          ]
        }
      ]
    },
    {
      "cell_type": "code",
      "source": [
        "import tensorflow as tf\n",
        "from tensorflow.keras import layers, models\n",
        "from sklearn.model_selection import KFold\n",
        "import numpy as np\n",
        "\n",
        "# Load MNIST data\n",
        "(x_train, y_train), (x_test, y_test) = tf.keras.datasets.mnist.load_data()\n",
        "\n",
        "# Normalize the data to range [0, 1]\n",
        "x_train = x_train.astype('float32') / 255.0\n",
        "x_test = x_test.astype('float32') / 255.0\n",
        "\n",
        "# Reshape data to include channel dimension (for CNN)\n",
        "x_train = x_train[..., np.newaxis]\n",
        "x_test = x_test[..., np.newaxis]\n",
        "\n",
        "# One-hot encode the labels\n",
        "y_train = tf.keras.utils.to_categorical(y_train, 10)\n",
        "y_test = tf.keras.utils.to_categorical(y_test, 10)\n",
        "\n",
        "# Define the CNN model\n",
        "def create_cnn_model():\n",
        "    model = models.Sequential([\n",
        "        layers.Conv2D(32, kernel_size=(3, 3), activation='relu', input_shape=(28, 28, 1)),\n",
        "        layers.MaxPooling2D(pool_size=(2, 2)),\n",
        "        layers.Conv2D(64, kernel_size=(3, 3), activation='relu'),\n",
        "        layers.MaxPooling2D(pool_size=(2, 2)),\n",
        "        layers.Flatten(),\n",
        "        layers.Dense(128, activation='relu'),\n",
        "        layers.Dense(10, activation='softmax')\n",
        "    ])\n",
        "    model.compile(optimizer='adam', loss='categorical_crossentropy', metrics=['accuracy'])\n",
        "    return model\n",
        "\n",
        "# Perform 5-fold cross-validation\n",
        "kfold = KFold(n_splits=5, shuffle=True, random_state=42)\n",
        "accuracies = []\n",
        "test_error_rates = []\n",
        "\n",
        "for train_idx, val_idx in kfold.split(x_train):\n",
        "    # Split data into training and validation sets\n",
        "    x_train_fold, x_val_fold = x_train[train_idx], x_train[val_idx]\n",
        "    y_train_fold, y_val_fold = y_train[train_idx], y_train[val_idx]\n",
        "\n",
        "    # Create a new model instance\n",
        "    model = create_cnn_model()\n",
        "\n",
        "    # Train the model\n",
        "    model.fit(x_train_fold, y_train_fold, epochs=5, batch_size=64, validation_data=(x_val_fold, y_val_fold), verbose=2)\n",
        "\n",
        "    # Evaluate the model on the validation data\n",
        "    val_loss, val_accuracy = model.evaluate(x_val_fold, y_val_fold, verbose=0)\n",
        "\n",
        "    # Calculate validation test error rate\n",
        "    test_error_rate = (1 - val_accuracy) * 100\n",
        "    accuracies.append(val_accuracy)\n",
        "    test_error_rates.append(test_error_rate)\n",
        "\n",
        "# Evaluate the model on the test data\n",
        "final_test_loss, final_test_accuracy = model.evaluate(x_test, y_test, verbose=0)\n",
        "final_test_error_rate = (1 - final_test_accuracy) * 100\n",
        "\n",
        "# Print final results\n",
        "print(f\"Cross-validated Accuracy: {np.mean(accuracies) * 100:.2f}%\")\n",
        "print(f\"Cross-validated Test Error Rate: {np.mean(test_error_rates):.2f}%\")\n",
        "print(f\"Test Set Accuracy: {final_test_accuracy * 100:.2f}%\")\n",
        "print(f\"Test Set Error Rate: {final_test_error_rate:.2f}%\")\n"
      ],
      "metadata": {
        "id": "Aj1mocHda-q7",
        "colab": {
          "base_uri": "https://localhost:8080/"
        },
        "outputId": "f023829f-e60c-42ab-b8ae-dee349c2e6e9"
      },
      "execution_count": null,
      "outputs": [
        {
          "output_type": "stream",
          "name": "stdout",
          "text": [
            "Downloading data from https://storage.googleapis.com/tensorflow/tf-keras-datasets/mnist.npz\n",
            "\u001b[1m11490434/11490434\u001b[0m \u001b[32m━━━━━━━━━━━━━━━━━━━━\u001b[0m\u001b[37m\u001b[0m \u001b[1m0s\u001b[0m 0us/step\n"
          ]
        },
        {
          "output_type": "stream",
          "name": "stderr",
          "text": [
            "/usr/local/lib/python3.10/dist-packages/keras/src/layers/convolutional/base_conv.py:107: UserWarning: Do not pass an `input_shape`/`input_dim` argument to a layer. When using Sequential models, prefer using an `Input(shape)` object as the first layer in the model instead.\n",
            "  super().__init__(activity_regularizer=activity_regularizer, **kwargs)\n"
          ]
        },
        {
          "output_type": "stream",
          "name": "stdout",
          "text": [
            "Epoch 1/5\n",
            "750/750 - 10s - 13ms/step - accuracy: 0.9427 - loss: 0.1873 - val_accuracy: 0.9801 - val_loss: 0.0672\n",
            "Epoch 2/5\n",
            "750/750 - 3s - 3ms/step - accuracy: 0.9824 - loss: 0.0565 - val_accuracy: 0.9862 - val_loss: 0.0461\n",
            "Epoch 3/5\n",
            "750/750 - 4s - 6ms/step - accuracy: 0.9875 - loss: 0.0383 - val_accuracy: 0.9868 - val_loss: 0.0441\n",
            "Epoch 4/5\n",
            "750/750 - 2s - 3ms/step - accuracy: 0.9913 - loss: 0.0281 - val_accuracy: 0.9889 - val_loss: 0.0350\n",
            "Epoch 5/5\n",
            "750/750 - 2s - 3ms/step - accuracy: 0.9929 - loss: 0.0209 - val_accuracy: 0.9879 - val_loss: 0.0441\n",
            "Epoch 1/5\n",
            "750/750 - 5s - 7ms/step - accuracy: 0.9458 - loss: 0.1806 - val_accuracy: 0.9750 - val_loss: 0.0815\n",
            "Epoch 2/5\n",
            "750/750 - 2s - 2ms/step - accuracy: 0.9833 - loss: 0.0521 - val_accuracy: 0.9847 - val_loss: 0.0509\n",
            "Epoch 3/5\n",
            "750/750 - 3s - 3ms/step - accuracy: 0.9889 - loss: 0.0352 - val_accuracy: 0.9852 - val_loss: 0.0486\n",
            "Epoch 4/5\n",
            "750/750 - 2s - 3ms/step - accuracy: 0.9919 - loss: 0.0264 - val_accuracy: 0.9843 - val_loss: 0.0505\n",
            "Epoch 5/5\n",
            "750/750 - 3s - 4ms/step - accuracy: 0.9934 - loss: 0.0203 - val_accuracy: 0.9878 - val_loss: 0.0404\n",
            "Epoch 1/5\n",
            "750/750 - 4s - 6ms/step - accuracy: 0.9456 - loss: 0.1779 - val_accuracy: 0.9806 - val_loss: 0.0649\n",
            "Epoch 2/5\n",
            "750/750 - 4s - 5ms/step - accuracy: 0.9840 - loss: 0.0509 - val_accuracy: 0.9833 - val_loss: 0.0603\n",
            "Epoch 3/5\n",
            "750/750 - 3s - 4ms/step - accuracy: 0.9897 - loss: 0.0340 - val_accuracy: 0.9828 - val_loss: 0.0578\n",
            "Epoch 4/5\n",
            "750/750 - 2s - 2ms/step - accuracy: 0.9918 - loss: 0.0254 - val_accuracy: 0.9870 - val_loss: 0.0417\n",
            "Epoch 5/5\n",
            "750/750 - 2s - 3ms/step - accuracy: 0.9936 - loss: 0.0205 - val_accuracy: 0.9883 - val_loss: 0.0426\n",
            "Epoch 1/5\n",
            "750/750 - 5s - 6ms/step - accuracy: 0.9484 - loss: 0.1775 - val_accuracy: 0.9809 - val_loss: 0.0630\n",
            "Epoch 2/5\n",
            "750/750 - 4s - 5ms/step - accuracy: 0.9835 - loss: 0.0515 - val_accuracy: 0.9806 - val_loss: 0.0615\n",
            "Epoch 3/5\n",
            "750/750 - 2s - 3ms/step - accuracy: 0.9886 - loss: 0.0357 - val_accuracy: 0.9850 - val_loss: 0.0513\n",
            "Epoch 4/5\n",
            "750/750 - 2s - 3ms/step - accuracy: 0.9916 - loss: 0.0262 - val_accuracy: 0.9872 - val_loss: 0.0409\n",
            "Epoch 5/5\n",
            "750/750 - 2s - 3ms/step - accuracy: 0.9939 - loss: 0.0189 - val_accuracy: 0.9854 - val_loss: 0.0477\n",
            "Epoch 1/5\n",
            "750/750 - 4s - 6ms/step - accuracy: 0.9461 - loss: 0.1779 - val_accuracy: 0.9817 - val_loss: 0.0587\n",
            "Epoch 2/5\n",
            "750/750 - 2s - 2ms/step - accuracy: 0.9849 - loss: 0.0512 - val_accuracy: 0.9852 - val_loss: 0.0454\n",
            "Epoch 3/5\n",
            "750/750 - 2s - 2ms/step - accuracy: 0.9891 - loss: 0.0334 - val_accuracy: 0.9872 - val_loss: 0.0425\n",
            "Epoch 4/5\n",
            "750/750 - 3s - 4ms/step - accuracy: 0.9916 - loss: 0.0256 - val_accuracy: 0.9852 - val_loss: 0.0469\n",
            "Epoch 5/5\n",
            "750/750 - 3s - 3ms/step - accuracy: 0.9938 - loss: 0.0192 - val_accuracy: 0.9883 - val_loss: 0.0383\n",
            "Cross-validated Accuracy: 98.75%\n",
            "Cross-validated Test Error Rate: 1.25%\n",
            "Test Set Accuracy: 98.89%\n",
            "Test Set Error Rate: 1.11%\n"
          ]
        }
      ]
    },
    {
      "cell_type": "code",
      "source": [
        "import tensorflow as tf\n",
        "from tensorflow.keras import layers, models\n",
        "import numpy as np\n",
        "import random\n",
        "\n",
        "# Load MNIST data\n",
        "(x_train, y_train), (x_test, y_test) = tf.keras.datasets.mnist.load_data()\n",
        "\n",
        "# Normalize the data to range [0, 1]\n",
        "x_train = x_train.astype('float32') / 255.0\n",
        "x_test = x_test.astype('float32') / 255.0\n",
        "x_train = x_train[..., np.newaxis]\n",
        "x_test = x_test[..., np.newaxis]\n",
        "\n",
        "# One-hot encode the labels\n",
        "y_train = tf.keras.utils.to_categorical(y_train, 10)\n",
        "y_test = tf.keras.utils.to_categorical(y_test, 10)\n",
        "\n",
        "# Define the CNN model\n",
        "def create_cnn_model():\n",
        "    model = models.Sequential([\n",
        "        layers.Conv2D(32, kernel_size=(3, 3), activation='relu', input_shape=(28, 28, 1)),\n",
        "        layers.MaxPooling2D(pool_size=(2, 2)),\n",
        "        layers.Conv2D(64, kernel_size=(3, 3), activation='relu'),\n",
        "        layers.MaxPooling2D(pool_size=(2, 2)),\n",
        "        layers.Flatten(),\n",
        "        layers.Dense(128, activation='relu'),\n",
        "        layers.Dense(10, activation='softmax')\n",
        "    ])\n",
        "    model.compile(optimizer='adam', loss='categorical_crossentropy', metrics=['accuracy'])\n",
        "    return model\n",
        "\n",
        "# Function to train on reduced datasets and return accuracy\n",
        "def train_on_reduced_data(fraction):\n",
        "    # Reduce dataset by fraction\n",
        "    num_samples = int(len(x_train) * fraction)\n",
        "    indices = random.sample(range(len(x_train)), num_samples)\n",
        "    x_train_reduced = x_train[indices]\n",
        "    y_train_reduced = y_train[indices]\n",
        "\n",
        "    # Create a new model instance\n",
        "    model = create_cnn_model()\n",
        "\n",
        "    # Train the model\n",
        "    model.fit(x_train_reduced, y_train_reduced, epochs=5, batch_size=64, verbose=2, validation_data=(x_test, y_test))\n",
        "\n",
        "    # Evaluate model on test data\n",
        "    test_loss, test_accuracy = model.evaluate(x_test, y_test, verbose=0)\n",
        "    return test_accuracy\n",
        "\n",
        "# List of fractions of the dataset to use (from full dataset to very small subset)\n",
        "fractions = [1.0, 0.75, 0.5, 0.25, 0.1, 0.05]\n",
        "\n",
        "# Store accuracies for each fraction\n",
        "accuracies = []\n",
        "\n",
        "for frac in fractions:\n",
        "    print(f\"Training with {frac*100}% of the data...\")\n",
        "    accuracy = train_on_reduced_data(frac)\n",
        "    accuracies.append(accuracy)\n",
        "    print(f\"Accuracy with {frac*100}% of the data: {accuracy * 100:.2f}%\\n\")\n",
        "\n",
        "# Plotting the learning curve\n",
        "import matplotlib.pyplot as plt\n",
        "\n",
        "plt.plot([f * 100 for f in fractions], accuracies, marker='o')\n",
        "plt.title(\"Learning Curve: Accuracy vs. Training Set Size\")\n",
        "plt.xlabel(\"Training Set Size (%)\")\n",
        "plt.ylabel(\"Test Accuracy\")\n",
        "plt.grid(True)\n",
        "plt.show()\n"
      ],
      "metadata": {
        "colab": {
          "base_uri": "https://localhost:8080/",
          "height": 1000
        },
        "id": "f5WzupgTYDdn",
        "outputId": "550d5558-25b0-4404-95c4-0acd073a756b"
      },
      "execution_count": null,
      "outputs": [
        {
          "output_type": "stream",
          "name": "stdout",
          "text": [
            "Downloading data from https://storage.googleapis.com/tensorflow/tf-keras-datasets/mnist.npz\n",
            "\u001b[1m11490434/11490434\u001b[0m \u001b[32m━━━━━━━━━━━━━━━━━━━━\u001b[0m\u001b[37m\u001b[0m \u001b[1m0s\u001b[0m 0us/step\n",
            "Training with 100.0% of the data...\n"
          ]
        },
        {
          "output_type": "stream",
          "name": "stderr",
          "text": [
            "/usr/local/lib/python3.10/dist-packages/keras/src/layers/convolutional/base_conv.py:107: UserWarning: Do not pass an `input_shape`/`input_dim` argument to a layer. When using Sequential models, prefer using an `Input(shape)` object as the first layer in the model instead.\n",
            "  super().__init__(activity_regularizer=activity_regularizer, **kwargs)\n"
          ]
        },
        {
          "output_type": "stream",
          "name": "stdout",
          "text": [
            "Epoch 1/5\n",
            "938/938 - 10s - 11ms/step - accuracy: 0.9549 - loss: 0.1512 - val_accuracy: 0.9813 - val_loss: 0.0554\n",
            "Epoch 2/5\n",
            "938/938 - 4s - 4ms/step - accuracy: 0.9855 - loss: 0.0468 - val_accuracy: 0.9884 - val_loss: 0.0328\n",
            "Epoch 3/5\n",
            "938/938 - 3s - 3ms/step - accuracy: 0.9896 - loss: 0.0331 - val_accuracy: 0.9865 - val_loss: 0.0423\n",
            "Epoch 4/5\n",
            "938/938 - 6s - 6ms/step - accuracy: 0.9919 - loss: 0.0247 - val_accuracy: 0.9881 - val_loss: 0.0365\n",
            "Epoch 5/5\n",
            "938/938 - 3s - 3ms/step - accuracy: 0.9940 - loss: 0.0188 - val_accuracy: 0.9880 - val_loss: 0.0376\n",
            "Accuracy with 100.0% of the data: 98.80%\n",
            "\n",
            "Training with 75.0% of the data...\n",
            "Epoch 1/5\n",
            "704/704 - 8s - 11ms/step - accuracy: 0.9458 - loss: 0.1792 - val_accuracy: 0.9771 - val_loss: 0.0665\n",
            "Epoch 2/5\n",
            "704/704 - 2s - 3ms/step - accuracy: 0.9822 - loss: 0.0576 - val_accuracy: 0.9857 - val_loss: 0.0423\n",
            "Epoch 3/5\n",
            "704/704 - 2s - 3ms/step - accuracy: 0.9879 - loss: 0.0402 - val_accuracy: 0.9864 - val_loss: 0.0382\n",
            "Epoch 4/5\n",
            "704/704 - 3s - 4ms/step - accuracy: 0.9907 - loss: 0.0283 - val_accuracy: 0.9869 - val_loss: 0.0386\n",
            "Epoch 5/5\n",
            "704/704 - 2s - 3ms/step - accuracy: 0.9926 - loss: 0.0225 - val_accuracy: 0.9882 - val_loss: 0.0366\n",
            "Accuracy with 75.0% of the data: 98.82%\n",
            "\n",
            "Training with 50.0% of the data...\n",
            "Epoch 1/5\n",
            "469/469 - 5s - 10ms/step - accuracy: 0.9295 - loss: 0.2364 - val_accuracy: 0.9761 - val_loss: 0.0727\n",
            "Epoch 2/5\n",
            "469/469 - 1s - 3ms/step - accuracy: 0.9787 - loss: 0.0670 - val_accuracy: 0.9837 - val_loss: 0.0507\n",
            "Epoch 3/5\n",
            "469/469 - 3s - 7ms/step - accuracy: 0.9865 - loss: 0.0441 - val_accuracy: 0.9885 - val_loss: 0.0361\n",
            "Epoch 4/5\n",
            "469/469 - 2s - 5ms/step - accuracy: 0.9896 - loss: 0.0315 - val_accuracy: 0.9890 - val_loss: 0.0336\n",
            "Epoch 5/5\n",
            "469/469 - 1s - 3ms/step - accuracy: 0.9918 - loss: 0.0247 - val_accuracy: 0.9888 - val_loss: 0.0382\n",
            "Accuracy with 50.0% of the data: 98.88%\n",
            "\n",
            "Training with 25.0% of the data...\n",
            "Epoch 1/5\n",
            "235/235 - 8s - 35ms/step - accuracy: 0.8831 - loss: 0.3862 - val_accuracy: 0.9626 - val_loss: 0.1278\n",
            "Epoch 2/5\n",
            "235/235 - 4s - 17ms/step - accuracy: 0.9679 - loss: 0.1016 - val_accuracy: 0.9712 - val_loss: 0.0906\n",
            "Epoch 3/5\n",
            "235/235 - 1s - 6ms/step - accuracy: 0.9792 - loss: 0.0669 - val_accuracy: 0.9723 - val_loss: 0.0946\n",
            "Epoch 4/5\n",
            "235/235 - 1s - 5ms/step - accuracy: 0.9827 - loss: 0.0510 - val_accuracy: 0.9795 - val_loss: 0.0629\n",
            "Epoch 5/5\n",
            "235/235 - 1s - 5ms/step - accuracy: 0.9891 - loss: 0.0353 - val_accuracy: 0.9800 - val_loss: 0.0670\n",
            "Accuracy with 25.0% of the data: 98.00%\n",
            "\n",
            "Training with 10.0% of the data...\n",
            "Epoch 1/5\n",
            "94/94 - 4s - 44ms/step - accuracy: 0.8242 - loss: 0.6182 - val_accuracy: 0.9349 - val_loss: 0.2109\n",
            "Epoch 2/5\n",
            "94/94 - 1s - 7ms/step - accuracy: 0.9538 - loss: 0.1553 - val_accuracy: 0.9570 - val_loss: 0.1388\n",
            "Epoch 3/5\n",
            "94/94 - 0s - 5ms/step - accuracy: 0.9718 - loss: 0.0964 - val_accuracy: 0.9661 - val_loss: 0.1083\n",
            "Epoch 4/5\n",
            "94/94 - 1s - 6ms/step - accuracy: 0.9773 - loss: 0.0696 - val_accuracy: 0.9703 - val_loss: 0.0880\n",
            "Epoch 5/5\n",
            "94/94 - 1s - 7ms/step - accuracy: 0.9812 - loss: 0.0580 - val_accuracy: 0.9719 - val_loss: 0.0873\n",
            "Accuracy with 10.0% of the data: 97.19%\n",
            "\n",
            "Training with 5.0% of the data...\n",
            "Epoch 1/5\n",
            "47/47 - 4s - 82ms/step - accuracy: 0.6923 - loss: 1.0465 - val_accuracy: 0.8720 - val_loss: 0.4449\n",
            "Epoch 2/5\n",
            "47/47 - 1s - 17ms/step - accuracy: 0.9080 - loss: 0.3059 - val_accuracy: 0.9341 - val_loss: 0.2246\n",
            "Epoch 3/5\n",
            "47/47 - 0s - 10ms/step - accuracy: 0.9447 - loss: 0.1902 - val_accuracy: 0.9496 - val_loss: 0.1702\n",
            "Epoch 4/5\n",
            "47/47 - 1s - 13ms/step - accuracy: 0.9613 - loss: 0.1278 - val_accuracy: 0.9646 - val_loss: 0.1207\n",
            "Epoch 5/5\n",
            "47/47 - 1s - 11ms/step - accuracy: 0.9743 - loss: 0.0903 - val_accuracy: 0.9683 - val_loss: 0.1095\n",
            "Accuracy with 5.0% of the data: 96.83%\n",
            "\n"
          ]
        },
        {
          "output_type": "display_data",
          "data": {
            "text/plain": [
              "<Figure size 640x480 with 1 Axes>"
            ],
            "image/png": "[encoded data removed]"
          },
          "metadata": {}
        }
      ]
    },
    {
      "cell_type": "code",
      "source": [
        "import numpy as np\n",
        "import matplotlib.pyplot as plt\n",
        "from sklearn.decomposition import PCA\n",
        "from sklearn.preprocessing import StandardScaler\n",
        "from tensorflow.keras.datasets import mnist\n",
        "\n",
        "# Load the MNIST dataset\n",
        "(X_train, y_train), (X_test, y_test) = mnist.load_data()\n",
        "\n",
        "# Normalize and flatten the images for PCA\n",
        "X_train_flat = X_train.reshape(X_train.shape[0], -1) / 255.0\n",
        "\n",
        "# Standardize the data\n",
        "scaler = StandardScaler()\n",
        "X_train_flat_scaled = scaler.fit_transform(X_train_flat)\n",
        "\n",
        "# Apply PCA\n",
        "pca = PCA(n_components=50)\n",
        "X_train_pca = pca.fit_transform(X_train_flat_scaled)\n",
        "\n",
        "# Find the images with the highest and lowest projections along the first N components\n",
        "N = 10  # Number of components to analyze\n",
        "\n",
        "# Plot representative images for each of the first N principal components\n",
        "for i in range(N):\n",
        "    # Find index of image with the highest projection along component i\n",
        "    max_index = np.argmax(X_train_pca[:, i])\n",
        "    min_index = np.argmin(X_train_pca[:, i])\n",
        "\n",
        "    # Reconstruct the images with highest and lowest projection\n",
        "    max_image = X_train_flat[max_index].reshape(28, 28)\n",
        "    min_image = X_train_flat[min_index].reshape(28, 28)\n",
        "\n",
        "    # Plot the images\n",
        "    plt.figure(figsize=(6, 3))\n",
        "    plt.subplot(1, 2, 1)\n",
        "    plt.imshow(max_image, cmap='gray')\n",
        "    plt.title(f'Highest for PC {i+1}')\n",
        "    plt.axis('off')\n",
        "\n",
        "    plt.subplot(1, 2, 2)\n",
        "    plt.imshow(min_image, cmap='gray')\n",
        "    plt.title(f'Lowest for PC {i+1}')\n",
        "    plt.axis('off')\n",
        "\n",
        "    plt.show()\n"
      ],
      "metadata": {
        "colab": {
          "base_uri": "https://localhost:8080/",
          "height": 1000
        },
        "id": "4SErb50gI-3P",
        "outputId": "6581cd4c-a9d0-4ff8-bd09-f92950b67665"
      },
      "execution_count": null,
      "outputs": [
        {
          "output_type": "stream",
          "name": "stdout",
          "text": [
            "Downloading data from https://storage.googleapis.com/tensorflow/tf-keras-datasets/mnist.npz\n",
            "\u001b[1m11490434/11490434\u001b[0m \u001b[32m━━━━━━━━━━━━━━━━━━━━\u001b[0m\u001b[37m\u001b[0m \u001b[1m2s\u001b[0m 0us/step\n"
          ]
        },
        {
          "output_type": "display_data",
          "data": {
            "text/plain": [
              "<Figure size 600x300 with 2 Axes>"
            ],
            "image/png": "[encoded data removed]"
          },
          "metadata": {}
        },
        {
          "output_type": "display_data",
          "data": {
            "text/plain": [
              "<Figure size 600x300 with 2 Axes>"
            ],
            "image/png": "[encoded data removed]"
          },
          "metadata": {}
        },
        {
          "output_type": "display_data",
          "data": {
            "text/plain": [
              "<Figure size 600x300 with 2 Axes>"
            ],
            "image/png": "[encoded data removed]"
          },
          "metadata": {}
        },
        {
          "output_type": "display_data",
          "data": {
            "text/plain": [
              "<Figure size 600x300 with 2 Axes>"
            ],
            "image/png": "[encoded data removed]"
          },
          "metadata": {}
        },
        {
          "output_type": "display_data",
          "data": {
            "text/plain": [
              "<Figure size 600x300 with 2 Axes>"
            ],
            "image/png": "[encoded data removed]"
          },
          "metadata": {}
        },
        {
          "output_type": "display_data",
          "data": {
            "text/plain": [
              "<Figure size 600x300 with 2 Axes>"
            ],
            "image/png": "[encoded data removed]"
          },
          "metadata": {}
        },
        {
          "output_type": "display_data",
          "data": {
            "text/plain": [
              "<Figure size 600x300 with 2 Axes>"
            ],
            "image/png": "[encoded data removed]"
          },
          "metadata": {}
        },
        {
          "output_type": "display_data",
          "data": {
            "text/plain": [
              "<Figure size 600x300 with 2 Axes>"
            ],
            "image/png": "[encoded data removed]"
          },
          "metadata": {}
        },
        {
          "output_type": "display_data",
          "data": {
            "text/plain": [
              "<Figure size 600x300 with 2 Axes>"
            ],
            "image/png": "[encoded data removed]"
          },
          "metadata": {}
        },
        {
          "output_type": "display_data",
          "data": {
            "text/plain": [
              "<Figure size 600x300 with 2 Axes>"
            ],
            "image/png": "[encoded data removed]"
          },
          "metadata": {}
        }
      ]
    },
    {
      "cell_type": "code",
      "source": [
        "import numpy as np\n",
        "import tensorflow as tf\n",
        "from tensorflow.keras import layers, models\n",
        "from sklearn.decomposition import PCA\n",
        "from sklearn.preprocessing import StandardScaler\n",
        "from tensorflow.keras.datasets import mnist\n",
        "\n",
        "# Load the MNIST dataset\n",
        "(X_train, y_train), (X_test, y_test) = mnist.load_data()\n",
        "\n",
        "# Normalize and flatten the images for PCA\n",
        "X_train_flat = X_train.reshape(X_train.shape[0], -1) / 255.0\n",
        "X_test_flat = X_test.reshape(X_test.shape[0], -1) / 255.0\n",
        "\n",
        "# Standardize the data (important for PCA)\n",
        "scaler = StandardScaler()\n",
        "X_train_flat_scaled = scaler.fit_transform(X_train_flat)\n",
        "X_test_flat_scaled = scaler.transform(X_test_flat)\n",
        "\n",
        "# Apply PCA (choose number of components, e.g., 50)\n",
        "pca = PCA(n_components=50)\n",
        "X_train_pca = pca.fit_transform(X_train_flat_scaled)\n",
        "X_test_pca = pca.transform(X_test_flat_scaled)\n",
        "\n",
        "# Reshape the PCA-transformed data to fit CNN input\n",
        "X_train_pca_reshaped = X_train_pca.reshape(-1, 5, 10, 1)\n",
        "X_test_pca_reshaped = X_test_pca.reshape(-1, 5, 10, 1)\n",
        "\n",
        "# Build a simple CNN model\n",
        "model = models.Sequential()\n",
        "\n",
        "# Convolution layer\n",
        "model.add(layers.Conv2D(32, (3, 3), activation='relu', input_shape=(5, 10, 1)))\n",
        "model.add(layers.MaxPooling2D((2, 2)))\n",
        "\n",
        "# Flatten the data for fully connected layers\n",
        "model.add(layers.Flatten())\n",
        "\n",
        "# Fully connected layer\n",
        "model.add(layers.Dense(64, activation='relu'))\n",
        "model.add(layers.Dense(10, activation='softmax'))  # Output layer for 10 classes\n",
        "\n",
        "# Compile the model\n",
        "model.compile(optimizer='adam', loss='sparse_categorical_crossentropy', metrics=['accuracy'])\n",
        "\n",
        "# Train the model\n",
        "model.fit(X_train_pca_reshaped, y_train, epochs=10, batch_size=64, validation_data=(X_test_pca_reshaped, y_test))\n",
        "\n",
        "# Evaluate the model\n",
        "test_loss, test_acc = model.evaluate(X_test_pca_reshaped, y_test)\n",
        "print(f\"Test accuracy: {test_acc}\")\n"
      ],
      "metadata": {
        "colab": {
          "base_uri": "https://localhost:8080/"
        },
        "id": "eWYWQPNFF3gF",
        "outputId": "5a98e7f1-8b43-4413-a689-0adaad729abe"
      },
      "execution_count": null,
      "outputs": [
        {
          "output_type": "stream",
          "name": "stdout",
          "text": [
            "Downloading data from https://storage.googleapis.com/tensorflow/tf-keras-datasets/mnist.npz\n",
            "\u001b[1m11490434/11490434\u001b[0m \u001b[32m━━━━━━━━━━━━━━━━━━━━\u001b[0m\u001b[37m\u001b[0m \u001b[1m2s\u001b[0m 0us/step\n"
          ]
        },
        {
          "output_type": "stream",
          "name": "stderr",
          "text": [
            "/usr/local/lib/python3.10/dist-packages/keras/src/layers/convolutional/base_conv.py:107: UserWarning: Do not pass an `input_shape`/`input_dim` argument to a layer. When using Sequential models, prefer using an `Input(shape)` object as the first layer in the model instead.\n",
            "  super().__init__(activity_regularizer=activity_regularizer, **kwargs)\n"
          ]
        },
        {
          "output_type": "stream",
          "name": "stdout",
          "text": [
            "Epoch 1/10\n",
            "\u001b[1m938/938\u001b[0m \u001b[32m━━━━━━━━━━━━━━━━━━━━\u001b[0m\u001b[37m\u001b[0m \u001b[1m15s\u001b[0m 10ms/step - accuracy: 0.6935 - loss: 1.0008 - val_accuracy: 0.8926 - val_loss: 0.3633\n",
            "Epoch 2/10\n",
            "\u001b[1m938/938\u001b[0m \u001b[32m━━━━━━━━━━━━━━━━━━━━\u001b[0m\u001b[37m\u001b[0m \u001b[1m2s\u001b[0m 2ms/step - accuracy: 0.8971 - loss: 0.3510 - val_accuracy: 0.9098 - val_loss: 0.3040\n",
            "Epoch 3/10\n",
            "\u001b[1m938/938\u001b[0m \u001b[32m━━━━━━━━━━━━━━━━━━━━\u001b[0m\u001b[37m\u001b[0m \u001b[1m2s\u001b[0m 2ms/step - accuracy: 0.9094 - loss: 0.3015 - val_accuracy: 0.9149 - val_loss: 0.2941\n",
            "Epoch 4/10\n",
            "\u001b[1m938/938\u001b[0m \u001b[32m━━━━━━━━━━━━━━━━━━━━\u001b[0m\u001b[37m\u001b[0m \u001b[1m2s\u001b[0m 2ms/step - accuracy: 0.9215 - loss: 0.2632 - val_accuracy: 0.9192 - val_loss: 0.2692\n",
            "Epoch 5/10\n",
            "\u001b[1m938/938\u001b[0m \u001b[32m━━━━━━━━━━━━━━━━━━━━\u001b[0m\u001b[37m\u001b[0m \u001b[1m3s\u001b[0m 3ms/step - accuracy: 0.9285 - loss: 0.2377 - val_accuracy: 0.9260 - val_loss: 0.2551\n",
            "Epoch 6/10\n",
            "\u001b[1m938/938\u001b[0m \u001b[32m━━━━━━━━━━━━━━━━━━━━\u001b[0m\u001b[37m\u001b[0m \u001b[1m4s\u001b[0m 2ms/step - accuracy: 0.9330 - loss: 0.2208 - val_accuracy: 0.9329 - val_loss: 0.2336\n",
            "Epoch 7/10\n",
            "\u001b[1m938/938\u001b[0m \u001b[32m━━━━━━━━━━━━━━━━━━━━\u001b[0m\u001b[37m\u001b[0m \u001b[1m2s\u001b[0m 2ms/step - accuracy: 0.9390 - loss: 0.2041 - val_accuracy: 0.9353 - val_loss: 0.2294\n",
            "Epoch 8/10\n",
            "\u001b[1m938/938\u001b[0m \u001b[32m━━━━━━━━━━━━━━━━━━━━\u001b[0m\u001b[37m\u001b[0m \u001b[1m2s\u001b[0m 2ms/step - accuracy: 0.9398 - loss: 0.1973 - val_accuracy: 0.9393 - val_loss: 0.2068\n",
            "Epoch 9/10\n",
            "\u001b[1m938/938\u001b[0m \u001b[32m━━━━━━━━━━━━━━━━━━━━\u001b[0m\u001b[37m\u001b[0m \u001b[1m3s\u001b[0m 2ms/step - accuracy: 0.9422 - loss: 0.1905 - val_accuracy: 0.9321 - val_loss: 0.2250\n",
            "Epoch 10/10\n",
            "\u001b[1m938/938\u001b[0m \u001b[32m━━━━━━━━━━━━━━━━━━━━\u001b[0m\u001b[37m\u001b[0m \u001b[1m3s\u001b[0m 2ms/step - accuracy: 0.9440 - loss: 0.1798 - val_accuracy: 0.9417 - val_loss: 0.1996\n",
            "\u001b[1m313/313\u001b[0m \u001b[32m━━━━━━━━━━━━━━━━━━━━\u001b[0m\u001b[37m\u001b[0m \u001b[1m1s\u001b[0m 1ms/step - accuracy: 0.9338 - loss: 0.2215\n",
            "Test accuracy: 0.9416999816894531\n"
          ]
        }
      ]
    },
    {
      "cell_type": "code",
      "source": [
        "import numpy as np\n",
        "import matplotlib.pyplot as plt\n",
        "from sklearn.decomposition import PCA\n",
        "from sklearn.preprocessing import StandardScaler\n",
        "from tensorflow.keras.datasets import mnist\n",
        "\n",
        "# Load the MNIST dataset\n",
        "(X_train, y_train), (X_test, y_test) = mnist.load_data()\n",
        "\n",
        "# Normalize and flatten the images for PCA\n",
        "X_train_flat = X_train.reshape(X_train.shape[0], -1) / 255.0\n",
        "\n",
        "# Standardize the data (important for PCA)\n",
        "scaler = StandardScaler()\n",
        "X_train_flat_scaled = scaler.fit_transform(X_train_flat)\n",
        "\n",
        "# Apply PCA (e.g., keeping 50 components)\n",
        "pca = PCA(n_components=50)\n",
        "X_train_pca = pca.fit_transform(X_train_flat_scaled)\n",
        "\n",
        "# Inverse transform to visualize the PCA components back into the image space\n",
        "X_train_pca_inverse = pca.inverse_transform(X_train_pca)\n",
        "\n",
        "# Reshape the inverse-transformed data back to 28x28 images\n",
        "X_train_pca_images = X_train_pca_inverse.reshape(-1, 28, 28)\n",
        "\n",
        "# Function to plot some PCA-transformed images\n",
        "def plot_pca_images(original_images, pca_images, n=10):\n",
        "    plt.figure(figsize=(10, 4))\n",
        "\n",
        "    for i in range(n):\n",
        "        # Plot original image\n",
        "        plt.subplot(2, n, i + 1)\n",
        "        plt.imshow(original_images[i], cmap='gray')\n",
        "        plt.axis('off')\n",
        "        plt.title('Original')\n",
        "\n",
        "        # Plot PCA reconstructed image\n",
        "        plt.subplot(2, n, i + 1 + n)\n",
        "        plt.imshow(pca_images[i], cmap='gray')\n",
        "        plt.axis('off')\n",
        "        plt.title('PCA Reconstructed')\n",
        "\n",
        "    plt.show()\n",
        "\n",
        "# Plot first 10 original vs PCA-reconstructed images\n",
        "plot_pca_images(X_train[:10], X_train_pca_images[:10])\n"
      ],
      "metadata": {
        "colab": {
          "base_uri": "https://localhost:8080/",
          "height": 293
        },
        "id": "4i1gU4nwGcRO",
        "outputId": "058c8e6d-7582-48c2-d3f6-91f9b8e374a6"
      },
      "execution_count": null,
      "outputs": [
        {
          "output_type": "display_data",
          "data": {
            "text/plain": [
              "<Figure size 1000x400 with 20 Axes>"
            ],
            "image/png": "[encoded data removed]"
          },
          "metadata": {}
        }
      ]
    },
    {
      "cell_type": "code",
      "source": [
        "pip install pywavelets"
      ],
      "metadata": {
        "colab": {
          "base_uri": "https://localhost:8080/"
        },
        "id": "ebjSD0MK6tje",
        "outputId": "cc4d669a-f0c6-4185-8c11-b16309900c22"
      },
      "execution_count": null,
      "outputs": [
        {
          "output_type": "stream",
          "name": "stdout",
          "text": [
            "Collecting pywavelets\n",
            "  Downloading pywavelets-1.7.0-cp310-cp310-manylinux_2_17_x86_64.manylinux2014_x86_64.whl.metadata (9.0 kB)\n",
            "Requirement already satisfied: numpy<3,>=1.23 in /usr/local/lib/python3.10/dist-packages (from pywavelets) (1.26.4)\n",
            "Downloading pywavelets-1.7.0-cp310-cp310-manylinux_2_17_x86_64.manylinux2014_x86_64.whl (4.5 MB)\n",
            "\u001b[?25l   \u001b[90m━━━━━━━━━━━━━━━━━━━━━━━━━━━━━━━━━━━━━━━━\u001b[0m \u001b[32m0.0/4.5 MB\u001b[0m \u001b[31m?\u001b[0m eta \u001b[36m-:--:--\u001b[0m\r\u001b[2K   \u001b[91m━━━━━━━━━━━━━━━━━━━━━━━━━━━━━━\u001b[0m\u001b[91m╸\u001b[0m\u001b[90m━━━━━━━━━\u001b[0m \u001b[32m3.4/4.5 MB\u001b[0m \u001b[31m101.3 MB/s\u001b[0m eta \u001b[36m0:00:01\u001b[0m\r\u001b[2K   \u001b[90m━━━━━━━━━━━━━━━━━━━━━━━━━━━━━━━━━━━━━━━━\u001b[0m \u001b[32m4.5/4.5 MB\u001b[0m \u001b[31m63.4 MB/s\u001b[0m eta \u001b[36m0:00:00\u001b[0m\n",
            "\u001b[?25hInstalling collected packages: pywavelets\n",
            "Successfully installed pywavelets-1.7.0\n"
          ]
        }
      ]
    },
    {
      "cell_type": "code",
      "source": [
        "import numpy as np\n",
        "import pywt\n",
        "import matplotlib.pyplot as plt\n",
        "from tensorflow.keras import layers, models\n",
        "from tensorflow.keras.datasets import mnist\n",
        "\n",
        "# Load the MNIST dataset\n",
        "(X_train, y_train), (X_test, y_test) = mnist.load_data()\n",
        "\n",
        "# Function to apply Discrete Wavelet Transform (DWT) to images\n",
        "def apply_wavelet_transform(images, wavelet='haar'):\n",
        "    transformed_images = []\n",
        "\n",
        "    for img in images:\n",
        "        # Apply 2D DWT\n",
        "        coeffs2 = pywt.dwt2(img, wavelet)\n",
        "        LL, (LH, HL, HH) = coeffs2  # Decompose into approximation and detail coefficients\n",
        "        transformed_images.append(LL)  # Use the approximation coefficients (LL)\n",
        "\n",
        "    return np.array(transformed_images)\n",
        "\n",
        "# Apply wavelet transform to both training and test datasets\n",
        "X_train_wavelet = apply_wavelet_transform(X_train)\n",
        "X_test_wavelet = apply_wavelet_transform(X_test)\n",
        "\n",
        "# Normalize the transformed data\n",
        "X_train_wavelet = X_train_wavelet / 255.0\n",
        "X_test_wavelet = X_test_wavelet / 255.0\n",
        "\n",
        "# Reshape for CNN input\n",
        "X_train_wavelet = X_train_wavelet.reshape(-1, X_train_wavelet.shape[1], X_train_wavelet.shape[2], 1)\n",
        "X_test_wavelet = X_test_wavelet.reshape(-1, X_test_wavelet.shape[1], X_test_wavelet.shape[2], 1)\n",
        "\n",
        "# Build the CNN model\n",
        "model = models.Sequential()\n",
        "\n",
        "# Convolution layer\n",
        "model.add(layers.Conv2D(32, (3, 3), activation='relu', input_shape=(X_train_wavelet.shape[1], X_train_wavelet.shape[2], 1)))\n",
        "model.add(layers.MaxPooling2D((2, 2)))\n",
        "\n",
        "# Add another convolution layer\n",
        "model.add(layers.Conv2D(64, (3, 3), activation='relu'))\n",
        "model.add(layers.MaxPooling2D((2, 2)))\n",
        "\n",
        "# Flatten for fully connected layers\n",
        "model.add(layers.Flatten())\n",
        "\n",
        "# Fully connected layers\n",
        "model.add(layers.Dense(64, activation='relu'))\n",
        "model.add(layers.Dense(10, activation='softmax'))  # 10 output classes for MNIST digits\n",
        "\n",
        "# Compile the model\n",
        "model.compile(optimizer='adam', loss='sparse_categorical_crossentropy', metrics=['accuracy'])\n",
        "\n",
        "# Train the model\n",
        "model.fit(X_train_wavelet, y_train, epochs=10, batch_size=64, validation_data=(X_test_wavelet, y_test))\n",
        "\n",
        "# Evaluate the model\n",
        "test_loss, test_acc = model.evaluate(X_test_wavelet, y_test)\n",
        "print(f\"Test accuracy: {test_acc}\")\n",
        "\n",
        "\n"
      ],
      "metadata": {
        "colab": {
          "base_uri": "https://localhost:8080/"
        },
        "id": "09KqXMnrrBDL",
        "outputId": "ab5bc292-a191-4533-97a9-2607be5aebce"
      },
      "execution_count": null,
      "outputs": [
        {
          "output_type": "stream",
          "name": "stderr",
          "text": [
            "/usr/local/lib/python3.10/dist-packages/keras/src/layers/convolutional/base_conv.py:107: UserWarning: Do not pass an `input_shape`/`input_dim` argument to a layer. When using Sequential models, prefer using an `Input(shape)` object as the first layer in the model instead.\n",
            "  super().__init__(activity_regularizer=activity_regularizer, **kwargs)\n"
          ]
        },
        {
          "output_type": "stream",
          "name": "stdout",
          "text": [
            "Epoch 1/10\n",
            "\u001b[1m938/938\u001b[0m \u001b[32m━━━━━━━━━━━━━━━━━━━━\u001b[0m\u001b[37m\u001b[0m \u001b[1m24s\u001b[0m 12ms/step - accuracy: 0.8381 - loss: 0.5705 - val_accuracy: 0.9784 - val_loss: 0.0695\n",
            "Epoch 2/10\n",
            "\u001b[1m938/938\u001b[0m \u001b[32m━━━━━━━━━━━━━━━━━━━━\u001b[0m\u001b[37m\u001b[0m \u001b[1m2s\u001b[0m 2ms/step - accuracy: 0.9760 - loss: 0.0762 - val_accuracy: 0.9818 - val_loss: 0.0550\n",
            "Epoch 3/10\n",
            "\u001b[1m938/938\u001b[0m \u001b[32m━━━━━━━━━━━━━━━━━━━━\u001b[0m\u001b[37m\u001b[0m \u001b[1m3s\u001b[0m 3ms/step - accuracy: 0.9838 - loss: 0.0533 - val_accuracy: 0.9799 - val_loss: 0.0598\n",
            "Epoch 4/10\n",
            "\u001b[1m938/938\u001b[0m \u001b[32m━━━━━━━━━━━━━━━━━━━━\u001b[0m\u001b[37m\u001b[0m \u001b[1m3s\u001b[0m 3ms/step - accuracy: 0.9859 - loss: 0.0447 - val_accuracy: 0.9890 - val_loss: 0.0341\n",
            "Epoch 5/10\n",
            "\u001b[1m938/938\u001b[0m \u001b[32m━━━━━━━━━━━━━━━━━━━━\u001b[0m\u001b[37m\u001b[0m \u001b[1m2s\u001b[0m 2ms/step - accuracy: 0.9887 - loss: 0.0362 - val_accuracy: 0.9879 - val_loss: 0.0368\n",
            "Epoch 6/10\n",
            "\u001b[1m938/938\u001b[0m \u001b[32m━━━━━━━━━━━━━━━━━━━━\u001b[0m\u001b[37m\u001b[0m \u001b[1m2s\u001b[0m 2ms/step - accuracy: 0.9908 - loss: 0.0307 - val_accuracy: 0.9874 - val_loss: 0.0390\n",
            "Epoch 7/10\n",
            "\u001b[1m938/938\u001b[0m \u001b[32m━━━━━━━━━━━━━━━━━━━━\u001b[0m\u001b[37m\u001b[0m \u001b[1m2s\u001b[0m 2ms/step - accuracy: 0.9919 - loss: 0.0253 - val_accuracy: 0.9868 - val_loss: 0.0383\n",
            "Epoch 8/10\n",
            "\u001b[1m938/938\u001b[0m \u001b[32m━━━━━━━━━━━━━━━━━━━━\u001b[0m\u001b[37m\u001b[0m \u001b[1m5s\u001b[0m 5ms/step - accuracy: 0.9935 - loss: 0.0206 - val_accuracy: 0.9884 - val_loss: 0.0362\n",
            "Epoch 9/10\n",
            "\u001b[1m938/938\u001b[0m \u001b[32m━━━━━━━━━━━━━━━━━━━━\u001b[0m\u001b[37m\u001b[0m \u001b[1m3s\u001b[0m 3ms/step - accuracy: 0.9940 - loss: 0.0180 - val_accuracy: 0.9889 - val_loss: 0.0330\n",
            "Epoch 10/10\n",
            "\u001b[1m938/938\u001b[0m \u001b[32m━━━━━━━━━━━━━━━━━━━━\u001b[0m\u001b[37m\u001b[0m \u001b[1m2s\u001b[0m 2ms/step - accuracy: 0.9944 - loss: 0.0177 - val_accuracy: 0.9898 - val_loss: 0.0319\n",
            "\u001b[1m313/313\u001b[0m \u001b[32m━━━━━━━━━━━━━━━━━━━━\u001b[0m\u001b[37m\u001b[0m \u001b[1m1s\u001b[0m 2ms/step - accuracy: 0.9863 - loss: 0.0417\n",
            "Test accuracy: 0.989799976348877\n"
          ]
        }
      ]
    },
    {
      "cell_type": "code",
      "source": [
        "import numpy as np\n",
        "import pywt\n",
        "from sklearn.svm import SVC\n",
        "from sklearn.metrics import accuracy_score\n",
        "from sklearn.preprocessing import StandardScaler\n",
        "from sklearn.model_selection import train_test_split\n",
        "from tensorflow.keras.datasets import mnist\n",
        "\n",
        "# Load the MNIST dataset\n",
        "(X_train, y_train), (X_test, y_test) = mnist.load_data()\n",
        "\n",
        "# Apply 2D DWT to the images and extract LL coefficients\n",
        "def extract_wavelet_features(images, wavelet='haar'):\n",
        "    features = []\n",
        "\n",
        "    for img in images:\n",
        "        coeffs2 = pywt.dwt2(img, wavelet)\n",
        "        LL, (LH, HL, HH) = coeffs2  # Only using the approximation (LL) coefficients\n",
        "        features.append(LL.flatten())  # Flatten the LL coefficients to a 1D feature vector\n",
        "\n",
        "    return np.array(features)\n",
        "\n",
        "# Extract wavelet features from both training and test datasets\n",
        "X_train_wavelet = extract_wavelet_features(X_train)\n",
        "X_test_wavelet = extract_wavelet_features(X_test)\n",
        "\n",
        "# Standardize the features (important for SVM)\n",
        "scaler = StandardScaler()\n",
        "X_train_wavelet_scaled = scaler.fit_transform(X_train_wavelet)\n",
        "X_test_wavelet_scaled = scaler.transform(X_test_wavelet)\n",
        "\n",
        "# Split the training set further for cross-validation\n",
        "X_train_split, X_val_split, y_train_split, y_val_split = train_test_split(X_train_wavelet_scaled, y_train, test_size=0.2, random_state=42)\n",
        "\n",
        "# Use an SVM classifier\n",
        "svm_model = SVC()\n",
        "\n",
        "# Train the SVM on wavelet features\n",
        "svm_model.fit(X_train_split, y_train_split)\n",
        "\n",
        "# Predict on the validation set\n",
        "y_val_pred = svm_model.predict(X_val_split)\n",
        "val_accuracy = accuracy_score(y_val_split, y_val_pred)\n",
        "print(f\"Validation accuracy using SVM on wavelet features: {val_accuracy:.4f}\")\n",
        "\n",
        "# Predict on the test set\n",
        "y_test_pred = svm_model.predict(X_test_wavelet_scaled)\n",
        "test_accuracy = accuracy_score(y_test, y_test_pred)\n",
        "print(f\"Test accuracy using SVM on wavelet features: {test_accuracy:.4f}\")\n"
      ],
      "metadata": {
        "colab": {
          "base_uri": "https://localhost:8080/"
        },
        "id": "sngM2kSm9ihC",
        "outputId": "51087d48-fc69-4f81-cd1f-dd00ce746a33"
      },
      "execution_count": null,
      "outputs": [
        {
          "output_type": "stream",
          "name": "stdout",
          "text": [
            "Validation accuracy using SVM on wavelet features: 0.9671\n",
            "Test accuracy using SVM on wavelet features: 0.9678\n"
          ]
        }
      ]
    },
    {
      "cell_type": "code",
      "source": [
        "import numpy as np\n",
        "from sklearn.svm import SVC\n",
        "from sklearn.metrics import accuracy_score\n",
        "from sklearn.model_selection import train_test_split\n",
        "from tensorflow.keras.datasets import mnist\n",
        "import matplotlib.pyplot as plt\n",
        "\n",
        "# Load the MNIST dataset\n",
        "(X_train, y_train), (X_test, y_test) = mnist.load_data()\n",
        "\n",
        "# Flatten the images to 1D arrays (28x28 = 784 pixels per image)\n",
        "X_train_flat = X_train.reshape(X_train.shape[0], -1)\n",
        "X_test_flat = X_test.reshape(X_test.shape[0], -1)\n",
        "\n",
        "# Define the number of sparse sensors (randomly selected pixels)\n",
        "num_sensors = 100  # Select 100 out of 784 pixels (sparse sensor placement)\n",
        "\n",
        "# Randomly select the indices of the sparse sensors\n",
        "np.random.seed(42)\n",
        "sensor_indices = np.random.choice(X_train_flat.shape[1], num_sensors, replace=False)\n",
        "\n",
        "# Reduce the data to the selected sensor locations (only selected pixels)\n",
        "X_train_sparse = X_train_flat[:, sensor_indices]\n",
        "X_test_sparse = X_test_flat[:, sensor_indices]\n",
        "\n",
        "# Split the training data for validation\n",
        "X_train_split, X_val_split, y_train_split, y_val_split = train_test_split(X_train_sparse, y_train, test_size=0.2, random_state=42)\n",
        "\n",
        "# Train an SVM classifier on the sparse sensor data\n",
        "svm_model = SVC()\n",
        "\n",
        "# Train the SVM\n",
        "svm_model.fit(X_train_split, y_train_split)\n",
        "\n",
        "# Predict on validation and test sets\n",
        "y_val_pred = svm_model.predict(X_val_split)\n",
        "val_accuracy = accuracy_score(y_val_split, y_val_pred)\n",
        "print(f\"Validation accuracy using SVM with {num_sensors} sparse sensors: {val_accuracy:.4f}\")\n",
        "\n",
        "y_test_pred = svm_model.predict(X_test_sparse)\n",
        "test_accuracy = accuracy_score(y_test, y_test_pred)\n",
        "print(f\"Test accuracy using SVM with {num_sensors} sparse sensors: {test_accuracy:.4f}\")\n",
        "\n",
        "# Optional: Visualize the selected sparse sensor placement on an MNIST image\n",
        "sample_image = np.zeros((28, 28))\n",
        "sensor_coords = np.unravel_index(sensor_indices, (28, 28))\n",
        "sample_image[sensor_coords] = 1\n",
        "\n",
        "plt.imshow(sample_image, cmap='gray')\n",
        "plt.title(f\"Sparse Sensor Placement ({num_sensors} sensors)\")\n",
        "plt.show()\n"
      ],
      "metadata": {
        "colab": {
          "base_uri": "https://localhost:8080/",
          "height": 487
        },
        "id": "L_OrbdAZ_xAZ",
        "outputId": "d151bb9f-f627-4f90-9712-407fcc6eb597"
      },
      "execution_count": null,
      "outputs": [
        {
          "output_type": "stream",
          "name": "stdout",
          "text": [
            "Validation accuracy using SVM with 100 sparse sensors: 0.9496\n",
            "Test accuracy using SVM with 100 sparse sensors: 0.9472\n"
          ]
        },
        {
          "output_type": "display_data",
          "data": {
            "text/plain": [
              "<Figure size 640x480 with 1 Axes>"
            ],
            "image/png": "[encoded data removed]"
          },
          "metadata": {}
        }
      ]
    },
    {
      "cell_type": "code",
      "source": [
        "import numpy as np\n",
        "import tensorflow as tf\n",
        "from tensorflow.keras import layers, models\n",
        "from tensorflow.keras.datasets import mnist\n",
        "import matplotlib.pyplot as plt\n",
        "\n",
        "# Load the MNIST dataset\n",
        "(X_train, y_train), (X_test, y_test) = mnist.load_data()\n",
        "\n",
        "# Normalize the images\n",
        "X_train = X_train / 255.0\n",
        "X_test = X_test / 255.0\n",
        "\n",
        "# Define the number of sparse sensors (randomly selected pixels)\n",
        "num_sensors = 100  # Select 100 out of 784 pixels (sparse sensor placement)\n",
        "\n",
        "# Randomly select the indices of the sparse sensors (flattened indices)\n",
        "np.random.seed(42)\n",
        "sensor_indices = np.random.choice(X_train.shape[1] * X_train.shape[2], num_sensors, replace=False)\n",
        "\n",
        "# Function to apply the sparse sensor mask to the images\n",
        "def apply_sparse_mask(images, sensor_indices):\n",
        "    masked_images = np.zeros_like(images)\n",
        "    # Get the 2D coordinates of the sensor indices\n",
        "    sensor_coords = np.unravel_index(sensor_indices, (images.shape[1], images.shape[2]))\n",
        "    # Set only the selected pixels (sensors) to their original values\n",
        "    masked_images[:, sensor_coords[0], sensor_coords[1]] = images[:, sensor_coords[0], sensor_coords[1]]\n",
        "    return masked_images\n",
        "\n",
        "# Apply the sparse mask to the training and test datasets\n",
        "X_train_sparse = apply_sparse_mask(X_train, sensor_indices)\n",
        "X_test_sparse = apply_sparse_mask(X_test, sensor_indices)\n",
        "\n",
        "# Reshape for CNN input (add a channel dimension)\n",
        "X_train_sparse = X_train_sparse.reshape(-1, 28, 28, 1)\n",
        "X_test_sparse = X_test_sparse.reshape(-1, 28, 28, 1)\n",
        "\n",
        "# Build a simple CNN model\n",
        "model = models.Sequential()\n",
        "\n",
        "# Convolutional layer with 32 filters, 3x3 kernel\n",
        "model.add(layers.Conv2D(32, (3, 3), activation='relu', input_shape=(28, 28, 1)))\n",
        "model.add(layers.MaxPooling2D((2, 2)))\n",
        "\n",
        "# Add another convolutional layer\n",
        "model.add(layers.Conv2D(64, (3, 3), activation='relu'))\n",
        "model.add(layers.MaxPooling2D((2, 2)))\n",
        "\n",
        "# Flatten the feature maps\n",
        "model.add(layers.Flatten())\n",
        "\n",
        "# Fully connected layer\n",
        "model.add(layers.Dense(64, activation='relu'))\n",
        "\n",
        "# Output layer (10 classes for MNIST digits)\n",
        "model.add(layers.Dense(10, activation='softmax'))\n",
        "\n",
        "# Compile the model\n",
        "model.compile(optimizer='adam', loss='sparse_categorical_crossentropy', metrics=['accuracy'])\n",
        "\n",
        "# Train the CNN on the sparse data\n",
        "model.fit(X_train_sparse, y_train, epochs=10, batch_size=64, validation_data=(X_test_sparse, y_test))\n",
        "\n",
        "# Evaluate the model on the test set\n",
        "test_loss, test_acc = model.evaluate(X_test_sparse, y_test)\n",
        "print(f\"Test accuracy using CNN with {num_sensors} sparse sensors: {test_acc:.4f}\")\n",
        "\n",
        "# Optional: Visualize an original vs sparse masked image\n",
        "plt.subplot(1, 2, 1)\n",
        "plt.imshow(X_train[0], cmap='gray')\n",
        "plt.title('Original Image')\n",
        "\n",
        "plt.subplot(1, 2, 2)\n",
        "plt.imshow(X_train_sparse[0].reshape(28, 28), cmap='gray')\n",
        "plt.title(f'Sparse Image ({num_sensors} sensors)')\n",
        "\n",
        "plt.show()\n"
      ],
      "metadata": {
        "colab": {
          "base_uri": "https://localhost:8080/",
          "height": 745
        },
        "id": "_6n7mad-AnTN",
        "outputId": "c791992a-4039-4298-8e0a-7ed3d9d736d5"
      },
      "execution_count": null,
      "outputs": [
        {
          "output_type": "stream",
          "name": "stderr",
          "text": [
            "/usr/local/lib/python3.10/dist-packages/keras/src/layers/convolutional/base_conv.py:107: UserWarning: Do not pass an `input_shape`/`input_dim` argument to a layer. When using Sequential models, prefer using an `Input(shape)` object as the first layer in the model instead.\n",
            "  super().__init__(activity_regularizer=activity_regularizer, **kwargs)\n"
          ]
        },
        {
          "output_type": "stream",
          "name": "stdout",
          "text": [
            "Epoch 1/10\n",
            "\u001b[1m938/938\u001b[0m \u001b[32m━━━━━━━━━━━━━━━━━━━━\u001b[0m\u001b[37m\u001b[0m \u001b[1m7s\u001b[0m 5ms/step - accuracy: 0.7986 - loss: 0.6550 - val_accuracy: 0.9293 - val_loss: 0.2263\n",
            "Epoch 2/10\n",
            "\u001b[1m938/938\u001b[0m \u001b[32m━━━━━━━━━━━━━━━━━━━━\u001b[0m\u001b[37m\u001b[0m \u001b[1m2s\u001b[0m 2ms/step - accuracy: 0.9340 - loss: 0.2108 - val_accuracy: 0.9499 - val_loss: 0.1676\n",
            "Epoch 3/10\n",
            "\u001b[1m938/938\u001b[0m \u001b[32m━━━━━━━━━━━━━━━━━━━━\u001b[0m\u001b[37m\u001b[0m \u001b[1m2s\u001b[0m 3ms/step - accuracy: 0.9489 - loss: 0.1611 - val_accuracy: 0.9440 - val_loss: 0.1790\n",
            "Epoch 4/10\n",
            "\u001b[1m938/938\u001b[0m \u001b[32m━━━━━━━━━━━━━━━━━━━━\u001b[0m\u001b[37m\u001b[0m \u001b[1m3s\u001b[0m 3ms/step - accuracy: 0.9527 - loss: 0.1438 - val_accuracy: 0.9510 - val_loss: 0.1570\n",
            "Epoch 5/10\n",
            "\u001b[1m938/938\u001b[0m \u001b[32m━━━━━━━━━━━━━━━━━━━━\u001b[0m\u001b[37m\u001b[0m \u001b[1m5s\u001b[0m 3ms/step - accuracy: 0.9588 - loss: 0.1278 - val_accuracy: 0.9563 - val_loss: 0.1457\n",
            "Epoch 6/10\n",
            "\u001b[1m938/938\u001b[0m \u001b[32m━━━━━━━━━━━━━━━━━━━━\u001b[0m\u001b[37m\u001b[0m \u001b[1m2s\u001b[0m 3ms/step - accuracy: 0.9626 - loss: 0.1135 - val_accuracy: 0.9529 - val_loss: 0.1463\n",
            "Epoch 7/10\n",
            "\u001b[1m938/938\u001b[0m \u001b[32m━━━━━━━━━━━━━━━━━━━━\u001b[0m\u001b[37m\u001b[0m \u001b[1m3s\u001b[0m 3ms/step - accuracy: 0.9660 - loss: 0.1017 - val_accuracy: 0.9550 - val_loss: 0.1422\n",
            "Epoch 8/10\n",
            "\u001b[1m938/938\u001b[0m \u001b[32m━━━━━━━━━━━━━━━━━━━━\u001b[0m\u001b[37m\u001b[0m \u001b[1m3s\u001b[0m 3ms/step - accuracy: 0.9693 - loss: 0.0904 - val_accuracy: 0.9526 - val_loss: 0.1444\n",
            "Epoch 9/10\n",
            "\u001b[1m938/938\u001b[0m \u001b[32m━━━━━━━━━━━━━━━━━━━━\u001b[0m\u001b[37m\u001b[0m \u001b[1m5s\u001b[0m 3ms/step - accuracy: 0.9717 - loss: 0.0825 - val_accuracy: 0.9560 - val_loss: 0.1451\n",
            "Epoch 10/10\n",
            "\u001b[1m938/938\u001b[0m \u001b[32m━━━━━━━━━━━━━━━━━━━━\u001b[0m\u001b[37m\u001b[0m \u001b[1m2s\u001b[0m 2ms/step - accuracy: 0.9739 - loss: 0.0764 - val_accuracy: 0.9547 - val_loss: 0.1453\n",
            "\u001b[1m313/313\u001b[0m \u001b[32m━━━━━━━━━━━━━━━━━━━━\u001b[0m\u001b[37m\u001b[0m \u001b[1m1s\u001b[0m 1ms/step - accuracy: 0.9449 - loss: 0.1804\n",
            "Test accuracy using CNN with 100 sparse sensors: 0.9547\n"
          ]
        },
        {
          "output_type": "display_data",
          "data": {
            "text/plain": [
              "<Figure size 640x480 with 2 Axes>"
            ],
            "image/png": "[encoded data removed]"
          },
          "metadata": {}
        }
      ]
    },
    {
      "cell_type": "code",
      "source": [
        "import numpy as np\n",
        "import matplotlib.pyplot as plt\n",
        "from tensorflow.keras.datasets import mnist\n",
        "\n",
        "# Load the MNIST dataset\n",
        "(X_train, y_train), (X_test, y_test) = mnist.load_data()\n",
        "\n",
        "# Normalize the images\n",
        "X_train = X_train / 255.0\n",
        "\n",
        "# Define the number of sparse sensors (randomly selected pixels)\n",
        "num_sensors = 100  # Select 100 out of 784 pixels (sparse sensor placement)\n",
        "\n",
        "# Randomly select the indices of the sparse sensors (flattened indices)\n",
        "np.random.seed(42)\n",
        "sensor_indices = np.random.choice(X_train.shape[1] * X_train.shape[2], num_sensors, replace=False)\n",
        "\n",
        "# Function to apply the sparse sensor mask to the images\n",
        "def apply_sparse_mask(images, sensor_indices):\n",
        "    masked_images = np.zeros_like(images)\n",
        "    # Get the 2D coordinates of the sensor indices\n",
        "    sensor_coords = np.unravel_index(sensor_indices, (images.shape[1], images.shape[2]))\n",
        "    # Set only the selected pixels (sensors) to their original values\n",
        "    masked_images[:, sensor_coords[0], sensor_coords[1]] = images[:, sensor_coords[0], sensor_coords[1]]\n",
        "    return masked_images\n",
        "\n",
        "# Apply the sparse mask to the first training image (single image)\n",
        "X_train_sparse_single = apply_sparse_mask(X_train[:1], sensor_indices)[0]\n",
        "\n",
        "# Visualize the original image and the sparse sensor matrix\n",
        "plt.figure(figsize=(10, 5))\n",
        "\n",
        "# Original image\n",
        "plt.subplot(1, 2, 1)\n",
        "plt.imshow(X_train[0], cmap='gray')\n",
        "plt.title('Original Image')\n",
        "\n",
        "# Sparse Sensor matrix image\n",
        "plt.subplot(1, 2, 2)\n",
        "plt.imshow(X_train_sparse_single, cmap='gray')\n",
        "plt.title(f'Sparse Sensor Matrix ({num_sensors} sensors)')\n",
        "\n",
        "plt.show()\n"
      ],
      "metadata": {
        "colab": {
          "base_uri": "https://localhost:8080/",
          "height": 435
        },
        "id": "d2KULCW8CSJl",
        "outputId": "c05ba1da-7e82-4226-abd9-4990fdb24149"
      },
      "execution_count": null,
      "outputs": [
        {
          "output_type": "display_data",
          "data": {
            "text/plain": [
              "<Figure size 1000x500 with 2 Axes>"
            ],
            "image/png": "[encoded data removed]"
          },
          "metadata": {}
        }
      ]
    },
    {
      "cell_type": "code",
      "source": [
        "X_train_sparse_single[0]"
      ],
      "metadata": {
        "colab": {
          "base_uri": "https://localhost:8080/"
        },
        "id": "VWkONcs5CsRh",
        "outputId": "0133760f-f04b-4250-d23c-56a0d98e432b"
      },
      "execution_count": null,
      "outputs": [
        {
          "output_type": "execute_result",
          "data": {
            "text/plain": [
              "array([0., 0., 0., 0., 0., 0., 0., 0., 0., 0., 0., 0., 0., 0., 0., 0., 0.,\n",
              "       0., 0., 0., 0., 0., 0., 0., 0., 0., 0., 0.])"
            ]
          },
          "metadata": {},
          "execution_count": 10
        }
      ]
    },
    {
      "cell_type": "code",
      "source": [
        "pip install pydmd"
      ],
      "metadata": {
        "colab": {
          "base_uri": "https://localhost:8080/"
        },
        "id": "shX2w6npDm_a",
        "outputId": "a7dc0333-4c9d-4665-c933-612872f36bdf"
      },
      "execution_count": null,
      "outputs": [
        {
          "output_type": "stream",
          "name": "stdout",
          "text": [
            "Collecting pydmd\n",
            "  Downloading PyDMD-1.0.1-py3-none-any.whl.metadata (21 kB)\n",
            "Requirement already satisfied: numpy<2 in /usr/local/lib/python3.10/dist-packages (from pydmd) (1.26.4)\n",
            "Requirement already satisfied: scipy>=1.6.0 in /usr/local/lib/python3.10/dist-packages (from pydmd) (1.13.1)\n",
            "Requirement already satisfied: matplotlib in /usr/local/lib/python3.10/dist-packages (from pydmd) (3.7.1)\n",
            "Requirement already satisfied: scikit-learn in /usr/local/lib/python3.10/dist-packages (from pydmd) (1.5.2)\n",
            "Requirement already satisfied: xarray in /usr/local/lib/python3.10/dist-packages (from pydmd) (2024.9.0)\n",
            "Requirement already satisfied: h5netcdf in /usr/local/lib/python3.10/dist-packages (from pydmd) (1.4.0)\n",
            "Requirement already satisfied: h5py in /usr/local/lib/python3.10/dist-packages (from h5netcdf->pydmd) (3.11.0)\n",
            "Requirement already satisfied: packaging in /usr/local/lib/python3.10/dist-packages (from h5netcdf->pydmd) (24.1)\n",
            "Requirement already satisfied: contourpy>=1.0.1 in /usr/local/lib/python3.10/dist-packages (from matplotlib->pydmd) (1.3.0)\n",
            "Requirement already satisfied: cycler>=0.10 in /usr/local/lib/python3.10/dist-packages (from matplotlib->pydmd) (0.12.1)\n",
            "Requirement already satisfied: fonttools>=4.22.0 in /usr/local/lib/python3.10/dist-packages (from matplotlib->pydmd) (4.54.1)\n",
            "Requirement already satisfied: kiwisolver>=1.0.1 in /usr/local/lib/python3.10/dist-packages (from matplotlib->pydmd) (1.4.7)\n",
            "Requirement already satisfied: pillow>=6.2.0 in /usr/local/lib/python3.10/dist-packages (from matplotlib->pydmd) (10.4.0)\n",
            "Requirement already satisfied: pyparsing>=2.3.1 in /usr/local/lib/python3.10/dist-packages (from matplotlib->pydmd) (3.1.4)\n",
            "Requirement already satisfied: python-dateutil>=2.7 in /usr/local/lib/python3.10/dist-packages (from matplotlib->pydmd) (2.8.2)\n",
            "Requirement already satisfied: joblib>=1.2.0 in /usr/local/lib/python3.10/dist-packages (from scikit-learn->pydmd) (1.4.2)\n",
            "Requirement already satisfied: threadpoolctl>=3.1.0 in /usr/local/lib/python3.10/dist-packages (from scikit-learn->pydmd) (3.5.0)\n",
            "Requirement already satisfied: pandas>=2.1 in /usr/local/lib/python3.10/dist-packages (from xarray->pydmd) (2.2.2)\n",
            "Requirement already satisfied: pytz>=2020.1 in /usr/local/lib/python3.10/dist-packages (from pandas>=2.1->xarray->pydmd) (2024.2)\n",
            "Requirement already satisfied: tzdata>=2022.7 in /usr/local/lib/python3.10/dist-packages (from pandas>=2.1->xarray->pydmd) (2024.2)\n",
            "Requirement already satisfied: six>=1.5 in /usr/local/lib/python3.10/dist-packages (from python-dateutil>=2.7->matplotlib->pydmd) (1.16.0)\n",
            "Downloading PyDMD-1.0.1-py3-none-any.whl (148 kB)\n",
            "\u001b[2K   \u001b[90m━━━━━━━━━━━━━━━━━━━━━━━━━━━━━━━━━━━━━━━━\u001b[0m \u001b[32m148.2/148.2 kB\u001b[0m \u001b[31m12.2 MB/s\u001b[0m eta \u001b[36m0:00:00\u001b[0m\n",
            "\u001b[?25hInstalling collected packages: pydmd\n",
            "Successfully installed pydmd-1.0.1\n"
          ]
        }
      ]
    },
    {
      "cell_type": "code",
      "source": [
        "import numpy as np\n",
        "from pydmd import DMD\n",
        "from sklearn.svm import SVC\n",
        "from sklearn.metrics import accuracy_score\n",
        "from sklearn.model_selection import train_test_split\n",
        "from tensorflow.keras.datasets import mnist\n",
        "\n",
        "# Load the MNIST dataset\n",
        "(X_train, y_train), (X_test, y_test) = mnist.load_data()\n",
        "\n",
        "# Normalize the images\n",
        "X_train = X_train / 255.0\n",
        "X_test = X_test / 255.0\n",
        "\n",
        "# Reshape the data to treat each image as a series of snapshots\n",
        "def reshape_to_snapshots(image):\n",
        "    \"\"\"\n",
        "    Reshape the 28x28 MNIST image into a sequence of snapshots.\n",
        "    We'll treat rows of the image as individual snapshots.\n",
        "    \"\"\"\n",
        "    return image.reshape(28, 28).T  # Transpose so rows are snapshots\n",
        "\n",
        "# Function to apply DMD to a single image and extract DMD modes as features\n",
        "def extract_dmd_modes(image, num_modes=10):\n",
        "    \"\"\"\n",
        "    Apply DMD to the given image and return the real parts of the first `num_modes` DMD modes.\n",
        "    \"\"\"\n",
        "    dmd = DMD(svd_rank=num_modes)\n",
        "    dmd.fit(reshape_to_snapshots(image))\n",
        "    return np.real(dmd.modes.flatten())[:num_modes]\n",
        "\n",
        "# Extract DMD modes for the training and testing datasets\n",
        "num_dmd_modes = 20  # Number of DMD modes to use as features\n",
        "X_train_dmd = np.array([extract_dmd_modes(img, num_dmd_modes) for img in X_train])\n",
        "X_test_dmd = np.array([extract_dmd_modes(img, num_dmd_modes) for img in X_test])\n",
        "\n",
        "# Split the training data into training and validation sets\n",
        "X_train_split, X_val_split, y_train_split, y_val_split = train_test_split(X_train_dmd, y_train, test_size=0.2, random_state=42)\n",
        "\n",
        "# Train an SVM classifier on the DMD features\n",
        "svm_model = SVC()\n",
        "svm_model.fit(X_train_split, y_train_split)\n",
        "\n",
        "# Predict on the validation and test sets\n",
        "y_val_pred = svm_model.predict(X_val_split)\n",
        "val_accuracy = accuracy_score(y_val_split, y_val_pred)\n",
        "print(f\"Validation accuracy using DMD modes and SVM: {val_accuracy:.4f}\")\n",
        "\n",
        "y_test_pred = svm_model.predict(X_test_dmd)\n",
        "test_accuracy = accuracy_score(y_test, y_test_pred)\n",
        "print(f\"Test accuracy using DMD modes and SVM: {test_accuracy:.4f}\")\n"
      ],
      "metadata": {
        "colab": {
          "base_uri": "https://localhost:8080/"
        },
        "id": "FgbyRN-5Dixo",
        "outputId": "aedc0895-bdb8-48b7-fff9-bd915b808a41"
      },
      "execution_count": null,
      "outputs": [
        {
          "output_type": "stream",
          "name": "stderr",
          "text": [
            "/usr/local/lib/python3.10/dist-packages/pydmd/snapshots.py:73: UserWarning: Input data condition number inf. Consider preprocessing data, passing in augmented data\n",
            "matrix, or regularization methods.\n",
            "  warnings.warn(\n"
          ]
        },
        {
          "output_type": "stream",
          "name": "stdout",
          "text": [
            "Validation accuracy using DMD modes and SVM: 0.2267\n",
            "Test accuracy using DMD modes and SVM: 0.2309\n"
          ]
        }
      ]
    },
    {
      "cell_type": "code",
      "source": [
        "import numpy as np\n",
        "import tensorflow as tf\n",
        "from tensorflow.keras import layers, models\n",
        "from pydmd import DMD\n",
        "from tensorflow.keras.datasets import mnist\n",
        "import matplotlib.pyplot as plt\n",
        "\n",
        "# Load the MNIST dataset\n",
        "(X_train, y_train), (X_test, y_test) = mnist.load_data()\n",
        "\n",
        "# Normalize the images\n",
        "X_train = X_train / 255.0\n",
        "X_test = X_test / 255.0\n",
        "\n",
        "# Reshape the data to treat each image as a series of snapshots\n",
        "def reshape_to_snapshots(image):\n",
        "    \"\"\"\n",
        "    Reshape the 28x28 MNIST image into a sequence of snapshots.\n",
        "    We'll treat rows of the image as individual snapshots.\n",
        "    \"\"\"\n",
        "    return image.reshape(28, 28).T  # Transpose so rows are snapshots\n",
        "\n",
        "# Function to apply DMD to a single image and extract DMD modes as features\n",
        "def extract_dmd_modes(image, num_modes=10):\n",
        "    \"\"\"\n",
        "    Apply DMD to the given image and return the real parts of the first `num_modes` DMD modes.\n",
        "    \"\"\"\n",
        "    dmd = DMD(svd_rank=num_modes)\n",
        "    dmd.fit(reshape_to_snapshots(image))\n",
        "    return np.real(dmd.modes).T  # Return the real parts of the DMD modes (transpose for CNN input)\n",
        "\n",
        "# Set the number of DMD modes\n",
        "num_dmd_modes = 10  # Choose how many DMD modes to extract\n",
        "\n",
        "# Extract DMD modes for the entire training and testing datasets\n",
        "X_train_dmd = np.array([extract_dmd_modes(img, num_dmd_modes) for img in X_train])\n",
        "X_test_dmd = np.array([extract_dmd_modes(img, num_dmd_modes) for img in X_test])\n",
        "\n",
        "# Add a channel dimension for the CNN input\n",
        "X_train_dmd = X_train_dmd.reshape(-1, num_dmd_modes, 28, 1)\n",
        "X_test_dmd = X_test_dmd.reshape(-1, num_dmd_modes, 28, 1)\n",
        "\n",
        "# Build a CNN model to take the DMD modes as input\n",
        "model = models.Sequential()\n",
        "\n",
        "# First convolutional layer\n",
        "model.add(layers.Conv2D(32, (3, 3), activation='relu', input_shape=(num_dmd_modes, 28, 1)))\n",
        "model.add(layers.MaxPooling2D((2, 2)))\n",
        "\n",
        "# Second convolutional layer\n",
        "model.add(layers.Conv2D(64, (3, 3), activation='relu'))\n",
        "model.add(layers.MaxPooling2D((2, 2)))\n",
        "\n",
        "# Flatten the feature maps before the fully connected layer\n",
        "model.add(layers.Flatten())\n",
        "\n",
        "# Fully connected layer\n",
        "model.add(layers.Dense(64, activation='relu'))\n",
        "\n",
        "# Output layer (for 10 classes in MNIST)\n",
        "model.add(layers.Dense(10, activation='softmax'))\n",
        "\n",
        "# Compile the CNN model\n",
        "model.compile(optimizer='adam', loss='sparse_categorical_crossentropy', metrics=['accuracy'])\n",
        "\n",
        "# Train the CNN using the DMD modes as input\n",
        "model.fit(X_train_dmd, y_train, epochs=10, batch_size=64, validation_data=(X_test_dmd, y_test))\n",
        "\n",
        "# Evaluate the model on the test set\n",
        "test_loss, test_acc = model.evaluate(X_test_dmd, y_test)\n",
        "print(f\"Test accuracy using DMD modes and CNN: {test_acc:.4f}\")\n",
        "\n",
        "# Optional: Visualize a DMD mode\n",
        "plt.subplot(1, 2, 1)\n",
        "plt.imshow(X_train[0], cmap='gray')\n",
        "plt.title('Original Image')\n",
        "\n",
        "plt.subplot(1, 2, 2)\n",
        "plt.imshow(X_train_dmd[0, :, :, 0], cmap='gray')\n",
        "plt.title(f'DMD Modes ({num_dmd_modes} modes)')\n",
        "plt.show()\n"
      ],
      "metadata": {
        "colab": {
          "base_uri": "https://localhost:8080/",
          "height": 797
        },
        "id": "I7m8X2TmL34R",
        "outputId": "b1433746-785d-4a14-d6d6-e95023610ca3"
      },
      "execution_count": null,
      "outputs": [
        {
          "output_type": "stream",
          "name": "stderr",
          "text": [
            "/usr/local/lib/python3.10/dist-packages/pydmd/snapshots.py:73: UserWarning: Input data condition number inf. Consider preprocessing data, passing in augmented data\n",
            "matrix, or regularization methods.\n",
            "  warnings.warn(\n"
          ]
        },
        {
          "output_type": "stream",
          "name": "stdout",
          "text": [
            "Epoch 1/10\n"
          ]
        },
        {
          "output_type": "stream",
          "name": "stderr",
          "text": [
            "/usr/local/lib/python3.10/dist-packages/keras/src/layers/convolutional/base_conv.py:107: UserWarning: Do not pass an `input_shape`/`input_dim` argument to a layer. When using Sequential models, prefer using an `Input(shape)` object as the first layer in the model instead.\n",
            "  super().__init__(activity_regularizer=activity_regularizer, **kwargs)\n"
          ]
        },
        {
          "output_type": "stream",
          "name": "stdout",
          "text": [
            "\u001b[1m938/938\u001b[0m \u001b[32m━━━━━━━━━━━━━━━━━━━━\u001b[0m\u001b[37m\u001b[0m \u001b[1m8s\u001b[0m 6ms/step - accuracy: 0.3614 - loss: 1.8073 - val_accuracy: 0.5366 - val_loss: 1.3219\n",
            "Epoch 2/10\n",
            "\u001b[1m938/938\u001b[0m \u001b[32m━━━━━━━━━━━━━━━━━━━━\u001b[0m\u001b[37m\u001b[0m \u001b[1m6s\u001b[0m 2ms/step - accuracy: 0.5699 - loss: 1.2415 - val_accuracy: 0.6140 - val_loss: 1.1306\n",
            "Epoch 3/10\n",
            "\u001b[1m938/938\u001b[0m \u001b[32m━━━━━━━━━━━━━━━━━━━━\u001b[0m\u001b[37m\u001b[0m \u001b[1m3s\u001b[0m 2ms/step - accuracy: 0.6269 - loss: 1.0873 - val_accuracy: 0.6361 - val_loss: 1.0532\n",
            "Epoch 4/10\n",
            "\u001b[1m938/938\u001b[0m \u001b[32m━━━━━━━━━━━━━━━━━━━━\u001b[0m\u001b[37m\u001b[0m \u001b[1m3s\u001b[0m 3ms/step - accuracy: 0.6594 - loss: 0.9951 - val_accuracy: 0.6414 - val_loss: 1.0376\n",
            "Epoch 5/10\n",
            "\u001b[1m938/938\u001b[0m \u001b[32m━━━━━━━━━━━━━━━━━━━━\u001b[0m\u001b[37m\u001b[0m \u001b[1m3s\u001b[0m 3ms/step - accuracy: 0.6784 - loss: 0.9398 - val_accuracy: 0.6671 - val_loss: 0.9694\n",
            "Epoch 6/10\n",
            "\u001b[1m938/938\u001b[0m \u001b[32m━━━━━━━━━━━━━━━━━━━━\u001b[0m\u001b[37m\u001b[0m \u001b[1m2s\u001b[0m 2ms/step - accuracy: 0.6950 - loss: 0.8879 - val_accuracy: 0.6721 - val_loss: 0.9515\n",
            "Epoch 7/10\n",
            "\u001b[1m938/938\u001b[0m \u001b[32m━━━━━━━━━━━━━━━━━━━━\u001b[0m\u001b[37m\u001b[0m \u001b[1m3s\u001b[0m 2ms/step - accuracy: 0.7029 - loss: 0.8655 - val_accuracy: 0.6844 - val_loss: 0.9202\n",
            "Epoch 8/10\n",
            "\u001b[1m938/938\u001b[0m \u001b[32m━━━━━━━━━━━━━━━━━━━━\u001b[0m\u001b[37m\u001b[0m \u001b[1m3s\u001b[0m 2ms/step - accuracy: 0.7213 - loss: 0.8099 - val_accuracy: 0.6907 - val_loss: 0.8914\n",
            "Epoch 9/10\n",
            "\u001b[1m938/938\u001b[0m \u001b[32m━━━━━━━━━━━━━━━━━━━━\u001b[0m\u001b[37m\u001b[0m \u001b[1m3s\u001b[0m 3ms/step - accuracy: 0.7235 - loss: 0.7982 - val_accuracy: 0.6909 - val_loss: 0.8901\n",
            "Epoch 10/10\n",
            "\u001b[1m938/938\u001b[0m \u001b[32m━━━━━━━━━━━━━━━━━━━━\u001b[0m\u001b[37m\u001b[0m \u001b[1m4s\u001b[0m 2ms/step - accuracy: 0.7315 - loss: 0.7764 - val_accuracy: 0.7026 - val_loss: 0.8672\n",
            "\u001b[1m313/313\u001b[0m \u001b[32m━━━━━━━━━━━━━━━━━━━━\u001b[0m\u001b[37m\u001b[0m \u001b[1m1s\u001b[0m 1ms/step - accuracy: 0.6870 - loss: 0.9260\n",
            "Test accuracy using DMD modes and CNN: 0.7026\n"
          ]
        },
        {
          "output_type": "display_data",
          "data": {
            "text/plain": [
              "<Figure size 640x480 with 2 Axes>"
            ],
            "image/png": "[encoded data removed]"
          },
          "metadata": {}
        }
      ]
    },
    {
      "cell_type": "code",
      "source": [
        "import numpy as np\n",
        "import matplotlib.pyplot as plt\n",
        "from sklearn.datasets import fetch_openml\n",
        "from sklearn.preprocessing import StandardScaler\n",
        "from pydmd import DMD\n",
        "\n",
        "# Step 1: Load MNIST data\n",
        "# Fetch MNIST dataset\n",
        "mnist = fetch_openml('mnist_784', version=1)\n",
        "images = mnist.data.values.astype(np.float64)\n",
        "\n",
        "# Normalize the dataset\n",
        "scaler = StandardScaler()\n",
        "images_scaled = scaler.fit_transform(images)\n",
        "\n",
        "# Step 2: Reshape data for DMD\n",
        "# We reshape the images to 28x28 and take a subset for dynamic analysis\n",
        "n_images = 1000  # Number of images to process\n",
        "image_height, image_width = 28, 28\n",
        "\n",
        "# We take the first `n_images` images for analysis\n",
        "X = images_scaled[:n_images].T  # Transpose to get the correct form for DMD\n",
        "\n",
        "# Step 3: Apply DMD\n",
        "dmd = DMD(svd_rank=20)  # Use a reduced rank approximation for efficiency\n",
        "dmd.fit(X)\n",
        "\n",
        "# Step 4: Extract and visualize DMD modes\n",
        "# Visualize some of the DMD modes as 28x28 images\n",
        "\n",
        "modes = dmd.modes.T.real  # Taking the real part of the DMD modes\n",
        "eigenvalues = dmd.eigs  # Eigenvalues\n",
        "\n",
        "# Plot DMD modes (first few modes)\n",
        "fig, axes = plt.subplots(2, 3, figsize=(12, 8))\n",
        "\n",
        "for i, ax in enumerate(axes.flatten()):\n",
        "    mode_image = modes[i].reshape((image_height, image_width))\n",
        "    ax.imshow(mode_image, cmap='gray')\n",
        "    ax.set_title(f'DMD Mode {i+1}')\n",
        "    ax.axis('off')\n",
        "\n",
        "plt.tight_layout()\n",
        "plt.show()\n",
        "\n",
        "# Step 5: Analyze eigenvalues\n",
        "# Plot the eigenvalues to understand the dynamics\n",
        "plt.figure(figsize=(6, 6))\n",
        "plt.scatter(eigenvalues.real, eigenvalues.imag, c='b', marker='o')\n",
        "plt.axhline(0, color='k', lw=1)\n",
        "plt.axvline(0, color='k', lw=1)\n",
        "plt.xlabel('Real part')\n",
        "plt.ylabel('Imaginary part')\n",
        "plt.title('DMD Eigenvalues')\n",
        "plt.grid(True)\n",
        "plt.show()\n"
      ],
      "metadata": {
        "colab": {
          "base_uri": "https://localhost:8080/",
          "height": 1000
        },
        "id": "H8UdTvMaNtX_",
        "outputId": "942a46c0-f35a-43d6-c059-7fd1e376c114"
      },
      "execution_count": null,
      "outputs": [
        {
          "output_type": "stream",
          "name": "stderr",
          "text": [
            "/usr/local/lib/python3.10/dist-packages/pydmd/snapshots.py:73: UserWarning: Input data condition number inf. Consider preprocessing data, passing in augmented data\n",
            "matrix, or regularization methods.\n",
            "  warnings.warn(\n"
          ]
        },
        {
          "output_type": "display_data",
          "data": {
            "text/plain": [
              "<Figure size 1200x800 with 6 Axes>"
            ],
            "image/png": "[encoded data removed]"
          },
          "metadata": {}
        },
        {
          "output_type": "display_data",
          "data": {
            "text/plain": [
              "<Figure size 600x600 with 1 Axes>"
            ],
            "image/png": "[encoded data removed]"
          },
          "metadata": {}
        }
      ]
    },
    {
      "cell_type": "code",
      "source": [
        "pip install pysindy"
      ],
      "metadata": {
        "colab": {
          "base_uri": "https://localhost:8080/"
        },
        "id": "rUcmVBN9OvD4",
        "outputId": "25d79b99-36d3-4bb3-dcfb-657e9db04526"
      },
      "execution_count": null,
      "outputs": [
        {
          "output_type": "stream",
          "name": "stdout",
          "text": [
            "Collecting pysindy\n",
            "  Downloading pysindy-1.7.5-py3-none-any.whl.metadata (22 kB)\n",
            "Requirement already satisfied: scikit-learn>=0.23 in /usr/local/lib/python3.10/dist-packages (from pysindy) (1.5.2)\n",
            "Requirement already satisfied: numpy in /usr/local/lib/python3.10/dist-packages (from pysindy) (1.26.4)\n",
            "Requirement already satisfied: scipy in /usr/local/lib/python3.10/dist-packages (from pysindy) (1.13.1)\n",
            "Collecting derivative (from pysindy)\n",
            "  Downloading derivative-0.6.3-py3-none-any.whl.metadata (6.6 kB)\n",
            "Requirement already satisfied: matplotlib in /usr/local/lib/python3.10/dist-packages (from pysindy) (3.7.1)\n",
            "Requirement already satisfied: cmake in /usr/local/lib/python3.10/dist-packages (from pysindy) (3.30.4)\n",
            "Requirement already satisfied: scs!=2.1.4,>=2.1 in /usr/local/lib/python3.10/dist-packages (from pysindy) (3.2.7)\n",
            "Requirement already satisfied: joblib>=1.2.0 in /usr/local/lib/python3.10/dist-packages (from scikit-learn>=0.23->pysindy) (1.4.2)\n",
            "Requirement already satisfied: threadpoolctl>=3.1.0 in /usr/local/lib/python3.10/dist-packages (from scikit-learn>=0.23->pysindy) (3.5.0)\n",
            "Requirement already satisfied: importlib-metadata>=7.1.0 in /usr/local/lib/python3.10/dist-packages (from derivative->pysindy) (8.5.0)\n",
            "Requirement already satisfied: contourpy>=1.0.1 in /usr/local/lib/python3.10/dist-packages (from matplotlib->pysindy) (1.3.0)\n",
            "Requirement already satisfied: cycler>=0.10 in /usr/local/lib/python3.10/dist-packages (from matplotlib->pysindy) (0.12.1)\n",
            "Requirement already satisfied: fonttools>=4.22.0 in /usr/local/lib/python3.10/dist-packages (from matplotlib->pysindy) (4.54.1)\n",
            "Requirement already satisfied: kiwisolver>=1.0.1 in /usr/local/lib/python3.10/dist-packages (from matplotlib->pysindy) (1.4.7)\n",
            "Requirement already satisfied: packaging>=20.0 in /usr/local/lib/python3.10/dist-packages (from matplotlib->pysindy) (24.1)\n",
            "Requirement already satisfied: pillow>=6.2.0 in /usr/local/lib/python3.10/dist-packages (from matplotlib->pysindy) (10.4.0)\n",
            "Requirement already satisfied: pyparsing>=2.3.1 in /usr/local/lib/python3.10/dist-packages (from matplotlib->pysindy) (3.1.4)\n",
            "Requirement already satisfied: python-dateutil>=2.7 in /usr/local/lib/python3.10/dist-packages (from matplotlib->pysindy) (2.8.2)\n",
            "Requirement already satisfied: zipp>=3.20 in /usr/local/lib/python3.10/dist-packages (from importlib-metadata>=7.1.0->derivative->pysindy) (3.20.2)\n",
            "Requirement already satisfied: six>=1.5 in /usr/local/lib/python3.10/dist-packages (from python-dateutil>=2.7->matplotlib->pysindy) (1.16.0)\n",
            "Downloading pysindy-1.7.5-py3-none-any.whl (121 kB)\n",
            "\u001b[2K   \u001b[90m━━━━━━━━━━━━━━━━━━━━━━━━━━━━━━━━━━━━━━━━\u001b[0m \u001b[32m121.0/121.0 kB\u001b[0m \u001b[31m12.6 MB/s\u001b[0m eta \u001b[36m0:00:00\u001b[0m\n",
            "\u001b[?25hDownloading derivative-0.6.3-py3-none-any.whl (14 kB)\n",
            "Installing collected packages: derivative, pysindy\n",
            "Successfully installed derivative-0.6.3 pysindy-1.7.5\n"
          ]
        }
      ]
    },
    {
      "cell_type": "code",
      "source": [
        "import numpy as np\n",
        "import pysindy as sindy\n",
        "from sklearn.model_selection import train_test_split\n",
        "from sklearn.svm import SVC\n",
        "from sklearn.metrics import accuracy_score\n",
        "from tensorflow.keras.datasets import mnist\n",
        "\n",
        "# Load the MNIST dataset\n",
        "(X_train, y_train), (X_test, y_test) = mnist.load_data()\n",
        "\n",
        "# Normalize and reshape the images to be flattened vectors\n",
        "X_train = X_train / 255.0\n",
        "X_test = X_test / 255.0\n",
        "X_train_flat = X_train.reshape(X_train.shape[0], -1)  # Flatten images\n",
        "X_test_flat = X_test.reshape(X_test.shape[0], -1)\n",
        "\n",
        "# Function to apply SINDy for feature extraction\n",
        "def extract_sindy_features(X, poly_order=2, sparsity_param=0.1):\n",
        "    # Fit SINDy with polynomial library\n",
        "    feature_library = sindy.PolynomialLibrary(degree=poly_order)\n",
        "    model = sindy.SINDy(feature_library=feature_library)\n",
        "\n",
        "    # Assuming X is treated as time series data for SINDy\n",
        "    model.fit(X, t=1)\n",
        "\n",
        "    # Return the identified features\n",
        "    return model.get_coefficients()\n",
        "\n",
        "# Apply SINDy to extract features from the training dataset\n",
        "sindy_features_train = extract_sindy_features(X_train_flat)\n",
        "\n",
        "# Apply SINDy to extract features from the test dataset\n",
        "sindy_features_test = extract_sindy_features(X_test_flat)\n",
        "\n",
        "# Since SINDy identifies features, we may need to flatten or reshape them for SVM\n",
        "sindy_features_train_flat = sindy_features_train.flatten()\n",
        "sindy_features_test_flat = sindy_features_test.flatten()\n",
        "\n",
        "# Create a simple classifier using the identified features\n",
        "# Use SVM as an example\n",
        "svm_model = SVC()\n",
        "\n",
        "# Train on the SINDy features\n",
        "svm_model.fit(sindy_features_train_flat.reshape(-1, sindy_features_train_flat.shape[0]), y_train)\n",
        "\n",
        "# Predict on the test set\n",
        "y_test_pred = svm_model.predict(sindy_features_test_flat.reshape(-1, sindy_features_test_flat.shape[0]))\n",
        "test_accuracy = accuracy_score(y_test, y_test_pred)\n",
        "print(f\"Test accuracy using SINDy features and SVM: {test_accuracy:.4f}\")\n"
      ],
      "metadata": {
        "id": "WeELoRFgOxsc"
      },
      "execution_count": null,
      "outputs": []
    },
    {
      "cell_type": "code",
      "source": [
        "import numpy as np\n",
        "import matplotlib.pyplot as plt\n",
        "from scipy.ndimage import rotate, shift, zoom\n",
        "from tensorflow.keras.datasets import mnist\n",
        "\n",
        "# Load the MNIST data\n",
        "(x_train, y_train), (_, _) = mnist.load_data()\n",
        "\n",
        "# Select an image to transform\n",
        "image = x_train[0]\n",
        "\n",
        "def translate_image(image, shift_x, shift_y):\n",
        "    # Translate image\n",
        "    return shift(image, shift=(shift_y, shift_x), mode='constant', cval=0)\n",
        "\n",
        "def rotate_image(image, angle):\n",
        "    # Rotate image\n",
        "    return rotate(image, angle=angle, reshape=False, mode='constant', cval=0)\n",
        "\n",
        "def reflect_image(image):\n",
        "    # Reflect (flip) image horizontally\n",
        "    return np.fliplr(image)\n",
        "\n",
        "def dilate_image(image, scale):\n",
        "    # Dilation (scaling)\n",
        "    zoomed_img = zoom(image, scale, mode='constant', cval=0)\n",
        "    if scale > 1:\n",
        "        # Crop center if scale > 1\n",
        "        center = zoomed_img.shape[0] // 2\n",
        "        start = center - 14\n",
        "        return zoomed_img[start:start+28, start:start+28]\n",
        "    else:\n",
        "        # Pad if scale < 1\n",
        "        pad_width = (28 - zoomed_img.shape[0]) // 2\n",
        "        return np.pad(zoomed_img, pad_width, mode='constant', constant_values=0)\n",
        "\n",
        "# Example transformations\n",
        "translated_image = translate_image(image, shift_x=5, shift_y=5)\n",
        "rotated_image = rotate_image(image, angle=25)\n",
        "reflected_image = reflect_image(image)\n",
        "dilated_image = dilate_image(image, scale=1.2)\n",
        "\n",
        "# Plotting\n",
        "fig, axs = plt.subplots(1, 5, figsize=(15, 3))\n",
        "titles = [\"Original\", \"Translated\", \"Rotated\", \"Reflected\", \"Dilated\"]\n",
        "\n",
        "for ax, img, title in zip(axs, [image, translated_image, rotated_image, reflected_image, dilated_image], titles):\n",
        "    ax.imshow(img, cmap='gray')\n",
        "    ax.set_title(title)\n",
        "    ax.axis('off')\n",
        "\n",
        "plt.show()\n"
      ],
      "metadata": {
        "id": "yOWXOMLEr6L1",
        "outputId": "8b3163dd-a837-4a02-eb81-2c6321c0411e",
        "colab": {
          "base_uri": "https://localhost:8080/",
          "height": 294
        }
      },
      "execution_count": null,
      "outputs": [
        {
          "output_type": "stream",
          "name": "stdout",
          "text": [
            "Downloading data from https://storage.googleapis.com/tensorflow/tf-keras-datasets/mnist.npz\n",
            "\u001b[1m11490434/11490434\u001b[0m \u001b[32m━━━━━━━━━━━━━━━━━━━━\u001b[0m\u001b[37m\u001b[0m \u001b[1m0s\u001b[0m 0us/step\n"
          ]
        },
        {
          "output_type": "display_data",
          "data": {
            "text/plain": [
              "<Figure size 1500x300 with 5 Axes>"
            ],
            "image/png": "[encoded data removed]"
          },
          "metadata": {}
        }
      ]
    }
  ]
}